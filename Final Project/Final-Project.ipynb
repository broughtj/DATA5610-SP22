{
 "cells": [
  {
   "cell_type": "markdown",
   "id": "4dd09124-4b82-4818-9889-dd8589cc82b5",
   "metadata": {},
   "source": [
    "# __Final Project__\n",
    "\n",
    "---\n",
    "\n",
    "<br>\n",
    "\n",
    "__DATA 5610__ <br>\n",
    "Author:      Tyler J. Brough <br>\n",
    "Last Update: May 2, 2022 <br>\n",
    "\n",
    "---"
   ]
  },
  {
   "cell_type": "code",
   "execution_count": 1,
   "id": "1f5135b6-9500-4eb9-84e7-9ee5c3283a87",
   "metadata": {},
   "outputs": [],
   "source": [
    "import matplotlib.pyplot as plt\n",
    "import numpy as np\n",
    "import pandas as pd\n",
    "from sklearn.linear_model import Lasso\n",
    "from sklearn.linear_model import LinearRegression\n",
    "from arch.bootstrap import SPA"
   ]
  },
  {
   "cell_type": "code",
   "execution_count": 2,
   "id": "2300778b-cad6-42d4-95dc-64bd84a7b651",
   "metadata": {},
   "outputs": [],
   "source": [
    "%matplotlib inline"
   ]
  },
  {
   "cell_type": "markdown",
   "id": "933c21d2-04f2-4529-b088-2f79a5b0ae8e",
   "metadata": {},
   "source": [
    "<br>\n",
    "<br>\n",
    "\n",
    "## __Step 0: Set Initial Conditions__\n",
    "\n",
    "<br>"
   ]
  },
  {
   "cell_type": "code",
   "execution_count": 3,
   "id": "7a301d99-dbe1-4f7c-ab6f-b837b116514e",
   "metadata": {},
   "outputs": [],
   "source": [
    "## Set the investors risk-aversion parameter\n",
    "γ = 2.0\n",
    "\n",
    "## Total observations\n",
    "n_total = 384\n",
    "\n",
    "## Initial training observations\n",
    "n_train = 120\n",
    "\n",
    "## Prediction observations\n",
    "n_predict = n_total - n_train\n",
    "\n",
    "## Number of models\n",
    "M = 4"
   ]
  },
  {
   "cell_type": "markdown",
   "id": "0270c82e-c2b4-4f4a-8c07-f4bd2daab04c",
   "metadata": {},
   "source": [
    "<br>\n",
    "<br>\n",
    "\n",
    "## __Step 1: Read Data__\n",
    "\n",
    "<br>"
   ]
  },
  {
   "cell_type": "code",
   "execution_count": 4,
   "id": "63ce7b53-bb73-4cf5-a5d0-f7b5b8e2553f",
   "metadata": {},
   "outputs": [],
   "source": [
    "#### 1. Read in the cleaned data\n",
    "df = pd.read_csv('final_project_cleaned_data.csv')"
   ]
  },
  {
   "cell_type": "code",
   "execution_count": 5,
   "id": "7a149e71-6071-41e5-a8e9-5d11ef1f0611",
   "metadata": {},
   "outputs": [
    {
     "data": {
      "text/plain": [
       "(384, 12)"
      ]
     },
     "execution_count": 5,
     "metadata": {},
     "output_type": "execute_result"
    }
   ],
   "source": [
    "df.shape"
   ]
  },
  {
   "cell_type": "code",
   "execution_count": 6,
   "id": "13ad2dac-ae24-4fc3-9e85-d9f65f41fce7",
   "metadata": {},
   "outputs": [],
   "source": [
    "## Panic if not true\n",
    "assert df.shape[0] == n_total"
   ]
  },
  {
   "cell_type": "code",
   "execution_count": 7,
   "id": "865873d9-9c7b-4971-812a-09188bab2f19",
   "metadata": {},
   "outputs": [
    {
     "data": {
      "text/html": [
       "<div>\n",
       "<style scoped>\n",
       "    .dataframe tbody tr th:only-of-type {\n",
       "        vertical-align: middle;\n",
       "    }\n",
       "\n",
       "    .dataframe tbody tr th {\n",
       "        vertical-align: top;\n",
       "    }\n",
       "\n",
       "    .dataframe thead th {\n",
       "        text-align: right;\n",
       "    }\n",
       "</style>\n",
       "<table border=\"1\" class=\"dataframe\">\n",
       "  <thead>\n",
       "    <tr style=\"text-align: right;\">\n",
       "      <th></th>\n",
       "      <th>date</th>\n",
       "      <th>dp</th>\n",
       "      <th>dy</th>\n",
       "      <th>ep</th>\n",
       "      <th>bm</th>\n",
       "      <th>ntis</th>\n",
       "      <th>tbl</th>\n",
       "      <th>ltr</th>\n",
       "      <th>tms</th>\n",
       "      <th>dfy</th>\n",
       "      <th>infl</th>\n",
       "      <th>ret</th>\n",
       "    </tr>\n",
       "  </thead>\n",
       "  <tbody>\n",
       "    <tr>\n",
       "      <th>0</th>\n",
       "      <td>199001</td>\n",
       "      <td>-3.464718</td>\n",
       "      <td>-3.443527</td>\n",
       "      <td>-2.737775</td>\n",
       "      <td>0.390455</td>\n",
       "      <td>-0.012334</td>\n",
       "      <td>0.0763</td>\n",
       "      <td>-0.0006</td>\n",
       "      <td>0.0053</td>\n",
       "      <td>0.0096</td>\n",
       "      <td>0.001589</td>\n",
       "      <td>-0.067661</td>\n",
       "    </tr>\n",
       "    <tr>\n",
       "      <th>1</th>\n",
       "      <td>199002</td>\n",
       "      <td>-3.385516</td>\n",
       "      <td>-3.456816</td>\n",
       "      <td>-2.684120</td>\n",
       "      <td>0.414971</td>\n",
       "      <td>-0.013897</td>\n",
       "      <td>0.0764</td>\n",
       "      <td>-0.0343</td>\n",
       "      <td>0.0101</td>\n",
       "      <td>0.0095</td>\n",
       "      <td>0.010309</td>\n",
       "      <td>0.013381</td>\n",
       "    </tr>\n",
       "    <tr>\n",
       "      <th>2</th>\n",
       "      <td>199003</td>\n",
       "      <td>-3.386188</td>\n",
       "      <td>-3.377685</td>\n",
       "      <td>-2.710584</td>\n",
       "      <td>0.409173</td>\n",
       "      <td>-0.011729</td>\n",
       "      <td>0.0774</td>\n",
       "      <td>-0.0025</td>\n",
       "      <td>0.0102</td>\n",
       "      <td>0.0092</td>\n",
       "      <td>0.004710</td>\n",
       "      <td>0.026588</td>\n",
       "    </tr>\n",
       "    <tr>\n",
       "      <th>3</th>\n",
       "      <td>199004</td>\n",
       "      <td>-3.402375</td>\n",
       "      <td>-3.378409</td>\n",
       "      <td>-2.752840</td>\n",
       "      <td>0.471334</td>\n",
       "      <td>-0.010291</td>\n",
       "      <td>0.0790</td>\n",
       "      <td>-0.0044</td>\n",
       "      <td>0.0099</td>\n",
       "      <td>0.0084</td>\n",
       "      <td>0.005469</td>\n",
       "      <td>-0.024504</td>\n",
       "    </tr>\n",
       "    <tr>\n",
       "      <th>4</th>\n",
       "      <td>199005</td>\n",
       "      <td>-3.365010</td>\n",
       "      <td>-3.392265</td>\n",
       "      <td>-2.731913</td>\n",
       "      <td>0.480284</td>\n",
       "      <td>-0.010149</td>\n",
       "      <td>0.0777</td>\n",
       "      <td>-0.0202</td>\n",
       "      <td>0.0147</td>\n",
       "      <td>0.0084</td>\n",
       "      <td>0.001554</td>\n",
       "      <td>0.097419</td>\n",
       "    </tr>\n",
       "  </tbody>\n",
       "</table>\n",
       "</div>"
      ],
      "text/plain": [
       "     date        dp        dy        ep        bm      ntis     tbl     ltr  \\\n",
       "0  199001 -3.464718 -3.443527 -2.737775  0.390455 -0.012334  0.0763 -0.0006   \n",
       "1  199002 -3.385516 -3.456816 -2.684120  0.414971 -0.013897  0.0764 -0.0343   \n",
       "2  199003 -3.386188 -3.377685 -2.710584  0.409173 -0.011729  0.0774 -0.0025   \n",
       "3  199004 -3.402375 -3.378409 -2.752840  0.471334 -0.010291  0.0790 -0.0044   \n",
       "4  199005 -3.365010 -3.392265 -2.731913  0.480284 -0.010149  0.0777 -0.0202   \n",
       "\n",
       "      tms     dfy      infl       ret  \n",
       "0  0.0053  0.0096  0.001589 -0.067661  \n",
       "1  0.0101  0.0095  0.010309  0.013381  \n",
       "2  0.0102  0.0092  0.004710  0.026588  \n",
       "3  0.0099  0.0084  0.005469 -0.024504  \n",
       "4  0.0147  0.0084  0.001554  0.097419  "
      ]
     },
     "execution_count": 7,
     "metadata": {},
     "output_type": "execute_result"
    }
   ],
   "source": [
    "df.head()"
   ]
  },
  {
   "cell_type": "code",
   "execution_count": 8,
   "id": "8d41a8de-ecdc-4669-8e2b-b3a61a71ada2",
   "metadata": {},
   "outputs": [
    {
     "data": {
      "text/html": [
       "<div>\n",
       "<style scoped>\n",
       "    .dataframe tbody tr th:only-of-type {\n",
       "        vertical-align: middle;\n",
       "    }\n",
       "\n",
       "    .dataframe tbody tr th {\n",
       "        vertical-align: top;\n",
       "    }\n",
       "\n",
       "    .dataframe thead th {\n",
       "        text-align: right;\n",
       "    }\n",
       "</style>\n",
       "<table border=\"1\" class=\"dataframe\">\n",
       "  <thead>\n",
       "    <tr style=\"text-align: right;\">\n",
       "      <th></th>\n",
       "      <th>date</th>\n",
       "      <th>dp</th>\n",
       "      <th>dy</th>\n",
       "      <th>ep</th>\n",
       "      <th>bm</th>\n",
       "      <th>ntis</th>\n",
       "      <th>tbl</th>\n",
       "      <th>ltr</th>\n",
       "      <th>tms</th>\n",
       "      <th>dfy</th>\n",
       "      <th>infl</th>\n",
       "      <th>ret</th>\n",
       "    </tr>\n",
       "  </thead>\n",
       "  <tbody>\n",
       "    <tr>\n",
       "      <th>379</th>\n",
       "      <td>202108</td>\n",
       "      <td>-4.322196</td>\n",
       "      <td>-4.299703</td>\n",
       "      <td>-3.286608</td>\n",
       "      <td>0.187005</td>\n",
       "      <td>0.016079</td>\n",
       "      <td>0.0005</td>\n",
       "      <td>0.0305</td>\n",
       "      <td>0.0127</td>\n",
       "      <td>0.0067</td>\n",
       "      <td>0.004811</td>\n",
       "      <td>0.030600</td>\n",
       "    </tr>\n",
       "    <tr>\n",
       "      <th>380</th>\n",
       "      <td>202109</td>\n",
       "      <td>-4.342866</td>\n",
       "      <td>-4.314288</td>\n",
       "      <td>-3.282043</td>\n",
       "      <td>0.184756</td>\n",
       "      <td>0.014846</td>\n",
       "      <td>0.0005</td>\n",
       "      <td>-0.0035</td>\n",
       "      <td>0.0123</td>\n",
       "      <td>0.0069</td>\n",
       "      <td>0.002066</td>\n",
       "      <td>-0.046076</td>\n",
       "    </tr>\n",
       "    <tr>\n",
       "      <th>381</th>\n",
       "      <td>202110</td>\n",
       "      <td>-4.286281</td>\n",
       "      <td>-4.335018</td>\n",
       "      <td>-3.201224</td>\n",
       "      <td>0.193036</td>\n",
       "      <td>0.015598</td>\n",
       "      <td>0.0004</td>\n",
       "      <td>-0.0250</td>\n",
       "      <td>0.0133</td>\n",
       "      <td>0.0070</td>\n",
       "      <td>0.002716</td>\n",
       "      <td>0.070510</td>\n",
       "    </tr>\n",
       "    <tr>\n",
       "      <th>382</th>\n",
       "      <td>202111</td>\n",
       "      <td>-4.346731</td>\n",
       "      <td>-4.279873</td>\n",
       "      <td>-3.226260</td>\n",
       "      <td>0.182389</td>\n",
       "      <td>0.013368</td>\n",
       "      <td>0.0005</td>\n",
       "      <td>0.0051</td>\n",
       "      <td>0.0153</td>\n",
       "      <td>0.0067</td>\n",
       "      <td>0.008308</td>\n",
       "      <td>-0.007256</td>\n",
       "    </tr>\n",
       "    <tr>\n",
       "      <th>383</th>\n",
       "      <td>202112</td>\n",
       "      <td>-4.331997</td>\n",
       "      <td>-4.340366</td>\n",
       "      <td>-3.177747</td>\n",
       "      <td>0.189455</td>\n",
       "      <td>0.015640</td>\n",
       "      <td>0.0005</td>\n",
       "      <td>0.0210</td>\n",
       "      <td>0.0151</td>\n",
       "      <td>0.0066</td>\n",
       "      <td>0.004913</td>\n",
       "      <td>0.043485</td>\n",
       "    </tr>\n",
       "  </tbody>\n",
       "</table>\n",
       "</div>"
      ],
      "text/plain": [
       "       date        dp        dy        ep        bm      ntis     tbl     ltr  \\\n",
       "379  202108 -4.322196 -4.299703 -3.286608  0.187005  0.016079  0.0005  0.0305   \n",
       "380  202109 -4.342866 -4.314288 -3.282043  0.184756  0.014846  0.0005 -0.0035   \n",
       "381  202110 -4.286281 -4.335018 -3.201224  0.193036  0.015598  0.0004 -0.0250   \n",
       "382  202111 -4.346731 -4.279873 -3.226260  0.182389  0.013368  0.0005  0.0051   \n",
       "383  202112 -4.331997 -4.340366 -3.177747  0.189455  0.015640  0.0005  0.0210   \n",
       "\n",
       "        tms     dfy      infl       ret  \n",
       "379  0.0127  0.0067  0.004811  0.030600  \n",
       "380  0.0123  0.0069  0.002066 -0.046076  \n",
       "381  0.0133  0.0070  0.002716  0.070510  \n",
       "382  0.0153  0.0067  0.008308 -0.007256  \n",
       "383  0.0151  0.0066  0.004913  0.043485  "
      ]
     },
     "execution_count": 8,
     "metadata": {},
     "output_type": "execute_result"
    }
   ],
   "source": [
    "df.tail()"
   ]
  },
  {
   "cell_type": "markdown",
   "id": "0c9af3c5-bd27-4aea-b8dc-f19c44d1a9ba",
   "metadata": {},
   "source": [
    "<br>\n",
    "<br>\n",
    "\n",
    "## __Step 2: Define the Loss Function__\n",
    "\n",
    "<br>"
   ]
  },
  {
   "cell_type": "code",
   "execution_count": 9,
   "id": "4d29855f-c2be-43f6-8c15-caaea3c3aae2",
   "metadata": {},
   "outputs": [],
   "source": [
    "## Define the isoelastic utility (power) loss function using a lambda function\n",
    "loss = lambda w, a : ((-w**(1.0 - a)) / (1.0 - a))"
   ]
  },
  {
   "cell_type": "code",
   "execution_count": 10,
   "id": "994fa74c-dec7-4c15-8062-fccd84810986",
   "metadata": {},
   "outputs": [
    {
     "data": {
      "text/plain": [
       "1.0526315789473684"
      ]
     },
     "execution_count": 10,
     "metadata": {},
     "output_type": "execute_result"
    }
   ],
   "source": [
    "## Sanity checks\n",
    "loss(0.95, 2.0)"
   ]
  },
  {
   "cell_type": "code",
   "execution_count": 11,
   "id": "96faec33-5d0d-4321-a0ef-822c19b1770d",
   "metadata": {},
   "outputs": [
    {
     "data": {
      "text/plain": [
       "0.9523809523809523"
      ]
     },
     "execution_count": 11,
     "metadata": {},
     "output_type": "execute_result"
    }
   ],
   "source": [
    "loss(1.05, 2.0)"
   ]
  },
  {
   "cell_type": "markdown",
   "id": "e8a96f0c-1c03-4355-8560-11716d86652f",
   "metadata": {},
   "source": [
    "<br>\n",
    "<br>\n",
    "\n",
    "## __Step 3: Calculate the Benchmark Losses__\n",
    "\n",
    "<br>"
   ]
  },
  {
   "cell_type": "code",
   "execution_count": 12,
   "id": "34b478a5-c7f0-469d-afb7-618792eab053",
   "metadata": {},
   "outputs": [],
   "source": [
    "r = df.ret.values[(n_train + 1):]\n",
    "s = +1.0\n",
    "bm_ret = 1.0 + (s * r)\n",
    "bm_losses = loss(bm_ret, γ)"
   ]
  },
  {
   "cell_type": "code",
   "execution_count": 13,
   "id": "5085f143-e9ff-4162-a9c0-f3124406341f",
   "metadata": {},
   "outputs": [
    {
     "data": {
      "text/plain": [
       "(263,)"
      ]
     },
     "execution_count": 13,
     "metadata": {},
     "output_type": "execute_result"
    }
   ],
   "source": [
    "bm_losses.shape"
   ]
  },
  {
   "cell_type": "code",
   "execution_count": 14,
   "id": "1d003d27-1516-43b3-8bdc-6e7f02e567a5",
   "metadata": {},
   "outputs": [
    {
     "data": {
      "text/plain": [
       "array([1.0177682 , 0.91034222, 1.03261515, 1.02281282, 0.97445087,\n",
       "       1.01296083, 0.94109321, 1.05495025, 1.00413704, 1.08491405,\n",
       "       0.99431253, 0.96864027, 1.10005192, 1.06804059, 0.9277944 ,\n",
       "       0.99317687, 1.02512163, 1.00940462, 1.06773155, 1.0873832 ,\n",
       "       0.98083449, 0.92696705, 0.99103019, 1.01453216, 1.01986805])"
      ]
     },
     "execution_count": 14,
     "metadata": {},
     "output_type": "execute_result"
    }
   ],
   "source": [
    "bm_losses[:25]"
   ]
  },
  {
   "cell_type": "markdown",
   "id": "7e0355ff-294c-4322-9739-3314592a73f4",
   "metadata": {},
   "source": [
    "<br>\n",
    "<br>\n",
    "\n",
    "## __Step 4: Calculate the Model Losses__"
   ]
  },
  {
   "cell_type": "markdown",
   "id": "9ba09a67-49b4-4d26-b6a2-87469af2c7dc",
   "metadata": {},
   "source": [
    "### __(a) Initialize Data and Storage__\n",
    "\n",
    "<br>"
   ]
  },
  {
   "cell_type": "code",
   "execution_count": 15,
   "id": "c409d3fc-7fa1-4a5d-8042-40e09cd5c62e",
   "metadata": {},
   "outputs": [],
   "source": [
    "X = df[['dp', 'dy', 'ep', 'bm', 'ntis', 'tbl', 'ltr', 'tms', 'dfy', 'infl']].to_numpy()"
   ]
  },
  {
   "cell_type": "code",
   "execution_count": 16,
   "id": "318e7125-d797-4055-8b4e-62cc888347b6",
   "metadata": {},
   "outputs": [
    {
     "data": {
      "text/plain": [
       "(384, 10)"
      ]
     },
     "execution_count": 16,
     "metadata": {},
     "output_type": "execute_result"
    }
   ],
   "source": [
    "X.shape"
   ]
  },
  {
   "cell_type": "code",
   "execution_count": 17,
   "id": "b8e54dbb-8ad6-4bef-8e20-7645192b943f",
   "metadata": {},
   "outputs": [],
   "source": [
    "Y = df['ret'].to_numpy()"
   ]
  },
  {
   "cell_type": "code",
   "execution_count": 18,
   "id": "e51f1a3c-5e67-4c9d-9dab-fcb3b7f4059a",
   "metadata": {},
   "outputs": [
    {
     "data": {
      "text/plain": [
       "(384,)"
      ]
     },
     "execution_count": 18,
     "metadata": {},
     "output_type": "execute_result"
    }
   ],
   "source": [
    "Y.shape"
   ]
  },
  {
   "cell_type": "code",
   "execution_count": 19,
   "id": "385823ef-4940-4ac6-a3b2-a9f19000affd",
   "metadata": {},
   "outputs": [],
   "source": [
    "model_losses = np.zeros((n_predict - 1, M))"
   ]
  },
  {
   "cell_type": "code",
   "execution_count": 20,
   "id": "b68d6438-c782-4626-8e08-57655bb52723",
   "metadata": {},
   "outputs": [
    {
     "data": {
      "text/plain": [
       "(263, 4)"
      ]
     },
     "execution_count": 20,
     "metadata": {},
     "output_type": "execute_result"
    }
   ],
   "source": [
    "model_losses.shape"
   ]
  },
  {
   "cell_type": "markdown",
   "id": "054523a8-13ab-4366-8e94-6107426a2cf7",
   "metadata": {},
   "source": [
    "<br>\n",
    "\n",
    "### __(b) Kitchen Sink Regression Model__\n",
    "\n",
    "<br>"
   ]
  },
  {
   "cell_type": "code",
   "execution_count": 21,
   "id": "0e7115df-7e55-4421-9130-22dfa1d45acf",
   "metadata": {},
   "outputs": [],
   "source": [
    "## signals array\n",
    "s = np.zeros(n_predict - 1)\n",
    "\n",
    "## model number\n",
    "m = 0\n",
    "\n",
    "## Moving window predictions\n",
    "for i in range(n_predict - 1):\n",
    "    \n",
    "    # set the indices\n",
    "    ibeg = i\n",
    "    iend = n_train + i\n",
    "    \n",
    "    \n",
    "    # subset the data\n",
    "    x = X[ibeg:iend,:]\n",
    "    y = Y[ibeg:iend]\n",
    "    \n",
    "    # run the regression\n",
    "    reg = LinearRegression().fit(x, y)\n",
    "    \n",
    "    # prediction\n",
    "    x_pred = X[(iend + 1), :].reshape(1, -1)\n",
    "    s[i] = np.sign(reg.predict(x_pred))\n",
    "    \n",
    "    # model loss\n",
    "    w = 1.0 + (s[i] * r[i])\n",
    "    model_losses[i, m] = loss(w, γ)"
   ]
  },
  {
   "cell_type": "markdown",
   "id": "3d1962a4-a8c2-48d8-b83a-3b33b1557a2e",
   "metadata": {},
   "source": [
    "<br>\n",
    "\n",
    "### __(c) Lasso Regression__\n",
    "\n",
    "<br>"
   ]
  },
  {
   "cell_type": "code",
   "execution_count": 22,
   "id": "0db6cc19-6d41-4129-a5e6-7c832d60a3c7",
   "metadata": {},
   "outputs": [],
   "source": [
    "## Lasso penalty parameters\n",
    "α = [0.0001, 0.0002, 0.001]\n",
    "\n",
    "## Loop over the remaining models\n",
    "for m in range(1, M):\n",
    "    \n",
    "    # signals array\n",
    "    s = np.zeros(n_predict - 1)\n",
    "\n",
    "    # Moving window predictions\n",
    "    for i in range(n_predict - 1):\n",
    "    \n",
    "        # set the indices\n",
    "        ibeg = i\n",
    "        iend = n_train + i\n",
    "    \n",
    "        # subset the data\n",
    "        x = X[ibeg:iend,:]\n",
    "        y = Y[ibeg:iend]\n",
    "    \n",
    "        # run the regression\n",
    "        reg = Lasso(alpha=α[m-1]).fit(x, y)\n",
    "    \n",
    "        # prediction\n",
    "        x_pred = X[(iend + 1), :].reshape(1, -1)\n",
    "        s[i] = np.sign(reg.predict(x_pred))\n",
    "    \n",
    "        # model loss\n",
    "        w = 1.0 + (s[i] * r[i])\n",
    "        model_losses[i, m] = loss(w, γ)"
   ]
  },
  {
   "cell_type": "markdown",
   "id": "a2f5d057-9baf-42a8-9e2b-6adf421418ae",
   "metadata": {},
   "source": [
    "<br>\n",
    "<br>\n",
    "\n",
    "## __Step 5: Run the SPA Test__\n",
    "\n",
    "<br>"
   ]
  },
  {
   "cell_type": "code",
   "execution_count": 23,
   "id": "54900b4e-eb07-454d-8780-61dc76f2223c",
   "metadata": {},
   "outputs": [
    {
     "data": {
      "text/plain": [
       "lower         0.6478\n",
       "consistent    0.8463\n",
       "upper         0.8463\n",
       "dtype: float64"
      ]
     },
     "execution_count": 23,
     "metadata": {},
     "output_type": "execute_result"
    }
   ],
   "source": [
    "spa = SPA(bm_losses, model_losses, reps=10_000)\n",
    "spa.compute()\n",
    "spa.pvalues"
   ]
  },
  {
   "cell_type": "markdown",
   "id": "5273e052-f174-49cf-aa77-278e36ae00d5",
   "metadata": {},
   "source": [
    "<br>\n",
    "\n",
    "\n",
    "#### __NB:__ ___Make sure you know how to interpret these results!!!___"
   ]
  },
  {
   "cell_type": "code",
   "execution_count": null,
   "id": "291efa05-191d-42c9-98c3-b16f9a2fb68a",
   "metadata": {},
   "outputs": [],
   "source": []
  }
 ],
 "metadata": {
  "kernelspec": {
   "display_name": "Python 3 (ipykernel)",
   "language": "python",
   "name": "python3"
  },
  "language_info": {
   "codemirror_mode": {
    "name": "ipython",
    "version": 3
   },
   "file_extension": ".py",
   "mimetype": "text/x-python",
   "name": "python",
   "nbconvert_exporter": "python",
   "pygments_lexer": "ipython3",
   "version": "3.8.5"
  }
 },
 "nbformat": 4,
 "nbformat_minor": 5
}
