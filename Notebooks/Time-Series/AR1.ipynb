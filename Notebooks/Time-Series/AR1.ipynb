{
 "cells": [
  {
   "cell_type": "code",
   "execution_count": 8,
   "id": "24bf805c-66aa-49d6-b28e-25581fe1d09d",
   "metadata": {},
   "outputs": [],
   "source": [
    "import numpy as np\n",
    "import matplotlib.pyplot as plt\n",
    "import pandas as pd"
   ]
  },
  {
   "cell_type": "code",
   "execution_count": 9,
   "id": "d708fb6b-470a-41f2-be8d-755265ecbf19",
   "metadata": {},
   "outputs": [],
   "source": [
    "%matplotlib inline"
   ]
  },
  {
   "cell_type": "code",
   "execution_count": 26,
   "id": "4f8bbd10-fec9-4c51-b5a3-6aef5a0236c4",
   "metadata": {},
   "outputs": [],
   "source": [
    "ϕ = 0.8\n",
    "#ϵ = np.random.normal(loc=0.0, scale=1.0, size=100)\n",
    "ϵ = np.zeros(100)"
   ]
  },
  {
   "cell_type": "code",
   "execution_count": 27,
   "id": "f7ef460d-8d1c-429c-8614-e14691ca78ec",
   "metadata": {},
   "outputs": [],
   "source": [
    "x = np.zeros(100)\n",
    "x[0]  = 3.14"
   ]
  },
  {
   "cell_type": "code",
   "execution_count": 28,
   "id": "29fb8052-722a-433b-b1fb-fa5b3b119c6e",
   "metadata": {},
   "outputs": [],
   "source": [
    "for t in range(1, 100):\n",
    "    x[t] = ϕ*x[t-1] + ϵ[t]"
   ]
  },
  {
   "cell_type": "code",
   "execution_count": 29,
   "id": "72c1d7cb-51a6-4812-8253-520ffb2f5837",
   "metadata": {},
   "outputs": [
    {
     "data": {
      "text/plain": [
       "<AxesSubplot:>"
      ]
     },
     "execution_count": 29,
     "metadata": {},
     "output_type": "execute_result"
    },
    {
     "data": {
      "image/png": "[encoded data removed]",
      "text/plain": [
       "<Figure size 432x288 with 1 Axes>"
      ]
     },
     "metadata": {
      "needs_background": "light"
     },
     "output_type": "display_data"
    }
   ],
   "source": [
    "xs = pd.Series(x)\n",
    "xs.plot()"
   ]
  },
  {
   "cell_type": "code",
   "execution_count": null,
   "id": "a4dfed2f-d90b-4043-9735-9f240ad7b047",
   "metadata": {},
   "outputs": [],
   "source": []
  }
 ],
 "metadata": {
  "kernelspec": {
   "display_name": "Python 3 (ipykernel)",
   "language": "python",
   "name": "python3"
  },
  "language_info": {
   "codemirror_mode": {
    "name": "ipython",
    "version": 3
   },
   "file_extension": ".py",
   "mimetype": "text/x-python",
   "name": "python",
   "nbconvert_exporter": "python",
   "pygments_lexer": "ipython3",
   "version": "3.8.5"
  }
 },
 "nbformat": 4,
 "nbformat_minor": 5
}
