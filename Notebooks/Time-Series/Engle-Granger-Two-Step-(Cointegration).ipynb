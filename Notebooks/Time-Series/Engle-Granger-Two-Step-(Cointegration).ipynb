{
 "cells": [
  {
   "cell_type": "markdown",
   "id": "a07f4d6e-3300-4af8-ae5d-c45f4d6f3d8a",
   "metadata": {},
   "source": [
    "## Cointegration"
   ]
  },
  {
   "cell_type": "code",
   "execution_count": 2,
   "id": "adcef21e-5475-4c17-801b-b4af190b4379",
   "metadata": {},
   "outputs": [],
   "source": [
    "import numpy as np\n",
    "import pandas as pd\n",
    "import statsmodels.api as sm\n",
    "import matplotlib.pyplot as plt"
   ]
  },
  {
   "cell_type": "code",
   "execution_count": 7,
   "id": "3cef70d0-9f8f-4c8e-b864-a3a03eb437a3",
   "metadata": {},
   "outputs": [],
   "source": [
    "ko = pd.read_csv(\"data/ko-1970-2015.csv\")\n",
    "pep = pd.read_csv(\"data/pep-1970-2015.csv\")"
   ]
  },
  {
   "cell_type": "code",
   "execution_count": 8,
   "id": "f54470cf-71a9-4925-a544-be2e2c16c892",
   "metadata": {},
   "outputs": [
    {
     "data": {
      "text/html": [
       "<div>\n",
       "<style scoped>\n",
       "    .dataframe tbody tr th:only-of-type {\n",
       "        vertical-align: middle;\n",
       "    }\n",
       "\n",
       "    .dataframe tbody tr th {\n",
       "        vertical-align: top;\n",
       "    }\n",
       "\n",
       "    .dataframe thead th {\n",
       "        text-align: right;\n",
       "    }\n",
       "</style>\n",
       "<table border=\"1\" class=\"dataframe\">\n",
       "  <thead>\n",
       "    <tr style=\"text-align: right;\">\n",
       "      <th></th>\n",
       "      <th>PERMNO</th>\n",
       "      <th>date</th>\n",
       "      <th>TICKER</th>\n",
       "      <th>PRC</th>\n",
       "    </tr>\n",
       "  </thead>\n",
       "  <tbody>\n",
       "    <tr>\n",
       "      <th>0</th>\n",
       "      <td>11308</td>\n",
       "      <td>19700102</td>\n",
       "      <td>KO</td>\n",
       "      <td>82.250</td>\n",
       "    </tr>\n",
       "    <tr>\n",
       "      <th>1</th>\n",
       "      <td>11308</td>\n",
       "      <td>19700105</td>\n",
       "      <td>KO</td>\n",
       "      <td>81.000</td>\n",
       "    </tr>\n",
       "    <tr>\n",
       "      <th>2</th>\n",
       "      <td>11308</td>\n",
       "      <td>19700106</td>\n",
       "      <td>KO</td>\n",
       "      <td>81.750</td>\n",
       "    </tr>\n",
       "    <tr>\n",
       "      <th>3</th>\n",
       "      <td>11308</td>\n",
       "      <td>19700107</td>\n",
       "      <td>KO</td>\n",
       "      <td>82.250</td>\n",
       "    </tr>\n",
       "    <tr>\n",
       "      <th>4</th>\n",
       "      <td>11308</td>\n",
       "      <td>19700108</td>\n",
       "      <td>KO</td>\n",
       "      <td>82.375</td>\n",
       "    </tr>\n",
       "  </tbody>\n",
       "</table>\n",
       "</div>"
      ],
      "text/plain": [
       "   PERMNO      date TICKER     PRC\n",
       "0   11308  19700102     KO  82.250\n",
       "1   11308  19700105     KO  81.000\n",
       "2   11308  19700106     KO  81.750\n",
       "3   11308  19700107     KO  82.250\n",
       "4   11308  19700108     KO  82.375"
      ]
     },
     "execution_count": 8,
     "metadata": {},
     "output_type": "execute_result"
    }
   ],
   "source": [
    "ko.head()"
   ]
  },
  {
   "cell_type": "code",
   "execution_count": 9,
   "id": "d2df6cb3-7dc6-427a-a09f-a9628b2d385e",
   "metadata": {},
   "outputs": [
    {
     "data": {
      "text/html": [
       "<div>\n",
       "<style scoped>\n",
       "    .dataframe tbody tr th:only-of-type {\n",
       "        vertical-align: middle;\n",
       "    }\n",
       "\n",
       "    .dataframe tbody tr th {\n",
       "        vertical-align: top;\n",
       "    }\n",
       "\n",
       "    .dataframe thead th {\n",
       "        text-align: right;\n",
       "    }\n",
       "</style>\n",
       "<table border=\"1\" class=\"dataframe\">\n",
       "  <thead>\n",
       "    <tr style=\"text-align: right;\">\n",
       "      <th></th>\n",
       "      <th>PERMNO</th>\n",
       "      <th>date</th>\n",
       "      <th>TICKER</th>\n",
       "      <th>PRC</th>\n",
       "    </tr>\n",
       "  </thead>\n",
       "  <tbody>\n",
       "    <tr>\n",
       "      <th>11602</th>\n",
       "      <td>11308</td>\n",
       "      <td>20151224</td>\n",
       "      <td>KO</td>\n",
       "      <td>43.54</td>\n",
       "    </tr>\n",
       "    <tr>\n",
       "      <th>11603</th>\n",
       "      <td>11308</td>\n",
       "      <td>20151228</td>\n",
       "      <td>KO</td>\n",
       "      <td>43.49</td>\n",
       "    </tr>\n",
       "    <tr>\n",
       "      <th>11604</th>\n",
       "      <td>11308</td>\n",
       "      <td>20151229</td>\n",
       "      <td>KO</td>\n",
       "      <td>43.71</td>\n",
       "    </tr>\n",
       "    <tr>\n",
       "      <th>11605</th>\n",
       "      <td>11308</td>\n",
       "      <td>20151230</td>\n",
       "      <td>KO</td>\n",
       "      <td>43.57</td>\n",
       "    </tr>\n",
       "    <tr>\n",
       "      <th>11606</th>\n",
       "      <td>11308</td>\n",
       "      <td>20151231</td>\n",
       "      <td>KO</td>\n",
       "      <td>42.96</td>\n",
       "    </tr>\n",
       "  </tbody>\n",
       "</table>\n",
       "</div>"
      ],
      "text/plain": [
       "       PERMNO      date TICKER    PRC\n",
       "11602   11308  20151224     KO  43.54\n",
       "11603   11308  20151228     KO  43.49\n",
       "11604   11308  20151229     KO  43.71\n",
       "11605   11308  20151230     KO  43.57\n",
       "11606   11308  20151231     KO  42.96"
      ]
     },
     "execution_count": 9,
     "metadata": {},
     "output_type": "execute_result"
    }
   ],
   "source": [
    "ko.tail()"
   ]
  },
  {
   "cell_type": "code",
   "execution_count": 10,
   "id": "30e40021-9d0b-4490-ab52-ab2483133603",
   "metadata": {},
   "outputs": [
    {
     "data": {
      "text/html": [
       "<div>\n",
       "<style scoped>\n",
       "    .dataframe tbody tr th:only-of-type {\n",
       "        vertical-align: middle;\n",
       "    }\n",
       "\n",
       "    .dataframe tbody tr th {\n",
       "        vertical-align: top;\n",
       "    }\n",
       "\n",
       "    .dataframe thead th {\n",
       "        text-align: right;\n",
       "    }\n",
       "</style>\n",
       "<table border=\"1\" class=\"dataframe\">\n",
       "  <thead>\n",
       "    <tr style=\"text-align: right;\">\n",
       "      <th></th>\n",
       "      <th>PERMNO</th>\n",
       "      <th>date</th>\n",
       "      <th>TICKER</th>\n",
       "      <th>PRC</th>\n",
       "    </tr>\n",
       "  </thead>\n",
       "  <tbody>\n",
       "    <tr>\n",
       "      <th>0</th>\n",
       "      <td>13856</td>\n",
       "      <td>19700102</td>\n",
       "      <td>PEP</td>\n",
       "      <td>52.500</td>\n",
       "    </tr>\n",
       "    <tr>\n",
       "      <th>1</th>\n",
       "      <td>13856</td>\n",
       "      <td>19700105</td>\n",
       "      <td>PEP</td>\n",
       "      <td>52.750</td>\n",
       "    </tr>\n",
       "    <tr>\n",
       "      <th>2</th>\n",
       "      <td>13856</td>\n",
       "      <td>19700106</td>\n",
       "      <td>PEP</td>\n",
       "      <td>52.000</td>\n",
       "    </tr>\n",
       "    <tr>\n",
       "      <th>3</th>\n",
       "      <td>13856</td>\n",
       "      <td>19700107</td>\n",
       "      <td>PEP</td>\n",
       "      <td>51.125</td>\n",
       "    </tr>\n",
       "    <tr>\n",
       "      <th>4</th>\n",
       "      <td>13856</td>\n",
       "      <td>19700108</td>\n",
       "      <td>PEP</td>\n",
       "      <td>49.625</td>\n",
       "    </tr>\n",
       "  </tbody>\n",
       "</table>\n",
       "</div>"
      ],
      "text/plain": [
       "   PERMNO      date TICKER     PRC\n",
       "0   13856  19700102    PEP  52.500\n",
       "1   13856  19700105    PEP  52.750\n",
       "2   13856  19700106    PEP  52.000\n",
       "3   13856  19700107    PEP  51.125\n",
       "4   13856  19700108    PEP  49.625"
      ]
     },
     "execution_count": 10,
     "metadata": {},
     "output_type": "execute_result"
    }
   ],
   "source": [
    "pep.head()"
   ]
  },
  {
   "cell_type": "code",
   "execution_count": 11,
   "id": "f5e5650b-0428-4c79-b6e8-10110fab7f42",
   "metadata": {},
   "outputs": [
    {
     "data": {
      "text/html": [
       "<div>\n",
       "<style scoped>\n",
       "    .dataframe tbody tr th:only-of-type {\n",
       "        vertical-align: middle;\n",
       "    }\n",
       "\n",
       "    .dataframe tbody tr th {\n",
       "        vertical-align: top;\n",
       "    }\n",
       "\n",
       "    .dataframe thead th {\n",
       "        text-align: right;\n",
       "    }\n",
       "</style>\n",
       "<table border=\"1\" class=\"dataframe\">\n",
       "  <thead>\n",
       "    <tr style=\"text-align: right;\">\n",
       "      <th></th>\n",
       "      <th>PERMNO</th>\n",
       "      <th>date</th>\n",
       "      <th>TICKER</th>\n",
       "      <th>PRC</th>\n",
       "    </tr>\n",
       "  </thead>\n",
       "  <tbody>\n",
       "    <tr>\n",
       "      <th>11602</th>\n",
       "      <td>13856</td>\n",
       "      <td>20151224</td>\n",
       "      <td>PEP</td>\n",
       "      <td>100.54</td>\n",
       "    </tr>\n",
       "    <tr>\n",
       "      <th>11603</th>\n",
       "      <td>13856</td>\n",
       "      <td>20151228</td>\n",
       "      <td>PEP</td>\n",
       "      <td>100.68</td>\n",
       "    </tr>\n",
       "    <tr>\n",
       "      <th>11604</th>\n",
       "      <td>13856</td>\n",
       "      <td>20151229</td>\n",
       "      <td>PEP</td>\n",
       "      <td>101.45</td>\n",
       "    </tr>\n",
       "    <tr>\n",
       "      <th>11605</th>\n",
       "      <td>13856</td>\n",
       "      <td>20151230</td>\n",
       "      <td>PEP</td>\n",
       "      <td>101.15</td>\n",
       "    </tr>\n",
       "    <tr>\n",
       "      <th>11606</th>\n",
       "      <td>13856</td>\n",
       "      <td>20151231</td>\n",
       "      <td>PEP</td>\n",
       "      <td>99.92</td>\n",
       "    </tr>\n",
       "  </tbody>\n",
       "</table>\n",
       "</div>"
      ],
      "text/plain": [
       "       PERMNO      date TICKER     PRC\n",
       "11602   13856  20151224    PEP  100.54\n",
       "11603   13856  20151228    PEP  100.68\n",
       "11604   13856  20151229    PEP  101.45\n",
       "11605   13856  20151230    PEP  101.15\n",
       "11606   13856  20151231    PEP   99.92"
      ]
     },
     "execution_count": 11,
     "metadata": {},
     "output_type": "execute_result"
    }
   ],
   "source": [
    "pep.tail()"
   ]
  },
  {
   "cell_type": "code",
   "execution_count": 15,
   "id": "7a34f29f-5728-4af7-b5e0-9efa2b38a0fb",
   "metadata": {},
   "outputs": [
    {
     "data": {
      "text/html": [
       "<div>\n",
       "<style scoped>\n",
       "    .dataframe tbody tr th:only-of-type {\n",
       "        vertical-align: middle;\n",
       "    }\n",
       "\n",
       "    .dataframe tbody tr th {\n",
       "        vertical-align: top;\n",
       "    }\n",
       "\n",
       "    .dataframe thead th {\n",
       "        text-align: right;\n",
       "    }\n",
       "</style>\n",
       "<table border=\"1\" class=\"dataframe\">\n",
       "  <thead>\n",
       "    <tr style=\"text-align: right;\">\n",
       "      <th></th>\n",
       "      <th>PERMNO</th>\n",
       "      <th>date</th>\n",
       "      <th>TICKER</th>\n",
       "      <th>PRC</th>\n",
       "    </tr>\n",
       "  </thead>\n",
       "  <tbody>\n",
       "    <tr>\n",
       "      <th>11355</th>\n",
       "      <td>13856</td>\n",
       "      <td>20150102</td>\n",
       "      <td>PEP</td>\n",
       "      <td>94.44</td>\n",
       "    </tr>\n",
       "    <tr>\n",
       "      <th>11356</th>\n",
       "      <td>13856</td>\n",
       "      <td>20150105</td>\n",
       "      <td>PEP</td>\n",
       "      <td>93.73</td>\n",
       "    </tr>\n",
       "    <tr>\n",
       "      <th>11357</th>\n",
       "      <td>13856</td>\n",
       "      <td>20150106</td>\n",
       "      <td>PEP</td>\n",
       "      <td>93.02</td>\n",
       "    </tr>\n",
       "    <tr>\n",
       "      <th>11358</th>\n",
       "      <td>13856</td>\n",
       "      <td>20150107</td>\n",
       "      <td>PEP</td>\n",
       "      <td>95.74</td>\n",
       "    </tr>\n",
       "    <tr>\n",
       "      <th>11359</th>\n",
       "      <td>13856</td>\n",
       "      <td>20150108</td>\n",
       "      <td>PEP</td>\n",
       "      <td>97.48</td>\n",
       "    </tr>\n",
       "    <tr>\n",
       "      <th>...</th>\n",
       "      <td>...</td>\n",
       "      <td>...</td>\n",
       "      <td>...</td>\n",
       "      <td>...</td>\n",
       "    </tr>\n",
       "    <tr>\n",
       "      <th>11602</th>\n",
       "      <td>13856</td>\n",
       "      <td>20151224</td>\n",
       "      <td>PEP</td>\n",
       "      <td>100.54</td>\n",
       "    </tr>\n",
       "    <tr>\n",
       "      <th>11603</th>\n",
       "      <td>13856</td>\n",
       "      <td>20151228</td>\n",
       "      <td>PEP</td>\n",
       "      <td>100.68</td>\n",
       "    </tr>\n",
       "    <tr>\n",
       "      <th>11604</th>\n",
       "      <td>13856</td>\n",
       "      <td>20151229</td>\n",
       "      <td>PEP</td>\n",
       "      <td>101.45</td>\n",
       "    </tr>\n",
       "    <tr>\n",
       "      <th>11605</th>\n",
       "      <td>13856</td>\n",
       "      <td>20151230</td>\n",
       "      <td>PEP</td>\n",
       "      <td>101.15</td>\n",
       "    </tr>\n",
       "    <tr>\n",
       "      <th>11606</th>\n",
       "      <td>13856</td>\n",
       "      <td>20151231</td>\n",
       "      <td>PEP</td>\n",
       "      <td>99.92</td>\n",
       "    </tr>\n",
       "  </tbody>\n",
       "</table>\n",
       "<p>252 rows × 4 columns</p>\n",
       "</div>"
      ],
      "text/plain": [
       "       PERMNO      date TICKER     PRC\n",
       "11355   13856  20150102    PEP   94.44\n",
       "11356   13856  20150105    PEP   93.73\n",
       "11357   13856  20150106    PEP   93.02\n",
       "11358   13856  20150107    PEP   95.74\n",
       "11359   13856  20150108    PEP   97.48\n",
       "...       ...       ...    ...     ...\n",
       "11602   13856  20151224    PEP  100.54\n",
       "11603   13856  20151228    PEP  100.68\n",
       "11604   13856  20151229    PEP  101.45\n",
       "11605   13856  20151230    PEP  101.15\n",
       "11606   13856  20151231    PEP   99.92\n",
       "\n",
       "[252 rows x 4 columns]"
      ]
     },
     "execution_count": 15,
     "metadata": {},
     "output_type": "execute_result"
    }
   ],
   "source": [
    "pep.iloc[-252:]"
   ]
  },
  {
   "cell_type": "code",
   "execution_count": 17,
   "id": "bb22073e-2f58-432c-a8b2-8f0c519e1fb1",
   "metadata": {},
   "outputs": [
    {
     "data": {
      "text/html": [
       "<div>\n",
       "<style scoped>\n",
       "    .dataframe tbody tr th:only-of-type {\n",
       "        vertical-align: middle;\n",
       "    }\n",
       "\n",
       "    .dataframe tbody tr th {\n",
       "        vertical-align: top;\n",
       "    }\n",
       "\n",
       "    .dataframe thead th {\n",
       "        text-align: right;\n",
       "    }\n",
       "</style>\n",
       "<table border=\"1\" class=\"dataframe\">\n",
       "  <thead>\n",
       "    <tr style=\"text-align: right;\">\n",
       "      <th></th>\n",
       "      <th>PERMNO</th>\n",
       "      <th>date</th>\n",
       "      <th>TICKER</th>\n",
       "      <th>PRC</th>\n",
       "    </tr>\n",
       "  </thead>\n",
       "  <tbody>\n",
       "    <tr>\n",
       "      <th>11355</th>\n",
       "      <td>11308</td>\n",
       "      <td>20150102</td>\n",
       "      <td>KO</td>\n",
       "      <td>42.14</td>\n",
       "    </tr>\n",
       "    <tr>\n",
       "      <th>11356</th>\n",
       "      <td>11308</td>\n",
       "      <td>20150105</td>\n",
       "      <td>KO</td>\n",
       "      <td>42.14</td>\n",
       "    </tr>\n",
       "    <tr>\n",
       "      <th>11357</th>\n",
       "      <td>11308</td>\n",
       "      <td>20150106</td>\n",
       "      <td>KO</td>\n",
       "      <td>42.46</td>\n",
       "    </tr>\n",
       "    <tr>\n",
       "      <th>11358</th>\n",
       "      <td>11308</td>\n",
       "      <td>20150107</td>\n",
       "      <td>KO</td>\n",
       "      <td>42.99</td>\n",
       "    </tr>\n",
       "    <tr>\n",
       "      <th>11359</th>\n",
       "      <td>11308</td>\n",
       "      <td>20150108</td>\n",
       "      <td>KO</td>\n",
       "      <td>43.51</td>\n",
       "    </tr>\n",
       "    <tr>\n",
       "      <th>...</th>\n",
       "      <td>...</td>\n",
       "      <td>...</td>\n",
       "      <td>...</td>\n",
       "      <td>...</td>\n",
       "    </tr>\n",
       "    <tr>\n",
       "      <th>11602</th>\n",
       "      <td>11308</td>\n",
       "      <td>20151224</td>\n",
       "      <td>KO</td>\n",
       "      <td>43.54</td>\n",
       "    </tr>\n",
       "    <tr>\n",
       "      <th>11603</th>\n",
       "      <td>11308</td>\n",
       "      <td>20151228</td>\n",
       "      <td>KO</td>\n",
       "      <td>43.49</td>\n",
       "    </tr>\n",
       "    <tr>\n",
       "      <th>11604</th>\n",
       "      <td>11308</td>\n",
       "      <td>20151229</td>\n",
       "      <td>KO</td>\n",
       "      <td>43.71</td>\n",
       "    </tr>\n",
       "    <tr>\n",
       "      <th>11605</th>\n",
       "      <td>11308</td>\n",
       "      <td>20151230</td>\n",
       "      <td>KO</td>\n",
       "      <td>43.57</td>\n",
       "    </tr>\n",
       "    <tr>\n",
       "      <th>11606</th>\n",
       "      <td>11308</td>\n",
       "      <td>20151231</td>\n",
       "      <td>KO</td>\n",
       "      <td>42.96</td>\n",
       "    </tr>\n",
       "  </tbody>\n",
       "</table>\n",
       "<p>252 rows × 4 columns</p>\n",
       "</div>"
      ],
      "text/plain": [
       "       PERMNO      date TICKER    PRC\n",
       "11355   11308  20150102     KO  42.14\n",
       "11356   11308  20150105     KO  42.14\n",
       "11357   11308  20150106     KO  42.46\n",
       "11358   11308  20150107     KO  42.99\n",
       "11359   11308  20150108     KO  43.51\n",
       "...       ...       ...    ...    ...\n",
       "11602   11308  20151224     KO  43.54\n",
       "11603   11308  20151228     KO  43.49\n",
       "11604   11308  20151229     KO  43.71\n",
       "11605   11308  20151230     KO  43.57\n",
       "11606   11308  20151231     KO  42.96\n",
       "\n",
       "[252 rows x 4 columns]"
      ]
     },
     "execution_count": 17,
     "metadata": {},
     "output_type": "execute_result"
    }
   ],
   "source": [
    "ko.iloc[-252:]"
   ]
  },
  {
   "cell_type": "code",
   "execution_count": 29,
   "id": "92d7217c-2f21-4587-950d-a4721f28b6d7",
   "metadata": {},
   "outputs": [
    {
     "data": {
      "text/plain": [
       "<AxesSubplot:>"
      ]
     },
     "execution_count": 29,
     "metadata": {},
     "output_type": "execute_result"
    },
    {
     "data": {
      "image/png": "[encoded data removed]",
      "text/plain": [
       "<Figure size 432x288 with 1 Axes>"
      ]
     },
     "metadata": {
      "needs_background": "light"
     },
     "output_type": "display_data"
    }
   ],
   "source": [
    "ko.PRC.plot()"
   ]
  },
  {
   "cell_type": "code",
   "execution_count": 30,
   "id": "aee24696-45f7-4369-8ae8-b18e77d2f0d7",
   "metadata": {},
   "outputs": [
    {
     "data": {
      "text/plain": [
       "<AxesSubplot:>"
      ]
     },
     "execution_count": 30,
     "metadata": {},
     "output_type": "execute_result"
    },
    {
     "data": {
      "image/png": "[encoded data removed]",
      "text/plain": [
       "<Figure size 432x288 with 1 Axes>"
      ]
     },
     "metadata": {
      "needs_background": "light"
     },
     "output_type": "display_data"
    }
   ],
   "source": [
    "pep.PRC.plot()"
   ]
  },
  {
   "cell_type": "code",
   "execution_count": 18,
   "id": "0633afec-189a-4221-804c-74a760d8c04e",
   "metadata": {},
   "outputs": [],
   "source": [
    "df = pd.DataFrame({'ko': ko['PRC'].iloc[-252:], 'pep' : pep['PRC'].iloc[-252:]})"
   ]
  },
  {
   "cell_type": "code",
   "execution_count": 19,
   "id": "0a5b3dfb-4773-4efe-8c5d-5568356dc691",
   "metadata": {},
   "outputs": [
    {
     "data": {
      "text/html": [
       "<div>\n",
       "<style scoped>\n",
       "    .dataframe tbody tr th:only-of-type {\n",
       "        vertical-align: middle;\n",
       "    }\n",
       "\n",
       "    .dataframe tbody tr th {\n",
       "        vertical-align: top;\n",
       "    }\n",
       "\n",
       "    .dataframe thead th {\n",
       "        text-align: right;\n",
       "    }\n",
       "</style>\n",
       "<table border=\"1\" class=\"dataframe\">\n",
       "  <thead>\n",
       "    <tr style=\"text-align: right;\">\n",
       "      <th></th>\n",
       "      <th>ko</th>\n",
       "      <th>pep</th>\n",
       "    </tr>\n",
       "  </thead>\n",
       "  <tbody>\n",
       "    <tr>\n",
       "      <th>11355</th>\n",
       "      <td>42.14</td>\n",
       "      <td>94.44</td>\n",
       "    </tr>\n",
       "    <tr>\n",
       "      <th>11356</th>\n",
       "      <td>42.14</td>\n",
       "      <td>93.73</td>\n",
       "    </tr>\n",
       "    <tr>\n",
       "      <th>11357</th>\n",
       "      <td>42.46</td>\n",
       "      <td>93.02</td>\n",
       "    </tr>\n",
       "    <tr>\n",
       "      <th>11358</th>\n",
       "      <td>42.99</td>\n",
       "      <td>95.74</td>\n",
       "    </tr>\n",
       "    <tr>\n",
       "      <th>11359</th>\n",
       "      <td>43.51</td>\n",
       "      <td>97.48</td>\n",
       "    </tr>\n",
       "  </tbody>\n",
       "</table>\n",
       "</div>"
      ],
      "text/plain": [
       "          ko    pep\n",
       "11355  42.14  94.44\n",
       "11356  42.14  93.73\n",
       "11357  42.46  93.02\n",
       "11358  42.99  95.74\n",
       "11359  43.51  97.48"
      ]
     },
     "execution_count": 19,
     "metadata": {},
     "output_type": "execute_result"
    }
   ],
   "source": [
    "df.head()"
   ]
  },
  {
   "cell_type": "code",
   "execution_count": 20,
   "id": "5d2e4752-9d58-45a6-b4d2-f7918c3d1eac",
   "metadata": {},
   "outputs": [
    {
     "data": {
      "text/plain": [
       "<AxesSubplot:>"
      ]
     },
     "execution_count": 20,
     "metadata": {},
     "output_type": "execute_result"
    },
    {
     "data": {
      "image/png": "[encoded data removed]",
      "text/plain": [
       "<Figure size 432x288 with 1 Axes>"
      ]
     },
     "metadata": {
      "needs_background": "light"
     },
     "output_type": "display_data"
    }
   ],
   "source": [
    "df.plot()"
   ]
  },
  {
   "cell_type": "code",
   "execution_count": 27,
   "id": "edd7ee3e-fe6a-485b-859e-6c7abdcbe4ba",
   "metadata": {},
   "outputs": [
    {
     "data": {
      "text/plain": [
       "(-2.1323029930212902,\n",
       " 0.2317253026691189,\n",
       " 0,\n",
       " 251,\n",
       " {'1%': -3.4566744514553016,\n",
       "  '5%': -2.8731248767783426,\n",
       "  '10%': -2.5729436702592023},\n",
       " 207.53748348461312)"
      ]
     },
     "execution_count": 27,
     "metadata": {},
     "output_type": "execute_result"
    }
   ],
   "source": [
    "## Apply ADF test to prices\n",
    "\n",
    "## Test KO in $levels\n",
    "adf_results_ko = sm.tsa.stattools.adfuller(df.ko, maxlag=10)\n",
    "adf_results_ko"
   ]
  },
  {
   "cell_type": "code",
   "execution_count": 25,
   "id": "8f484e58-6007-4832-811d-9b7ce038461b",
   "metadata": {},
   "outputs": [],
   "source": [
    "## Test PEP in $levels\n",
    "adf_results_pep = sm.tsa.stattools.adfuller(df.pep, maxlag=10)"
   ]
  },
  {
   "cell_type": "code",
   "execution_count": 26,
   "id": "b9c69a08-a5d5-4942-8cdf-e6a1a7aee98e",
   "metadata": {},
   "outputs": [
    {
     "data": {
      "text/plain": [
       "(-3.0506634806661572,\n",
       " 0.03042636928534495,\n",
       " 1,\n",
       " 250,\n",
       " {'1%': -3.456780859712, '5%': -2.8731715065600003, '10%': -2.572968544},\n",
       " 644.8353999669648)"
      ]
     },
     "execution_count": 26,
     "metadata": {},
     "output_type": "execute_result"
    }
   ],
   "source": [
    "adf_results_pep"
   ]
  },
  {
   "cell_type": "code",
   "execution_count": 31,
   "id": "e86d16df-edcf-4815-8662-f540876f7518",
   "metadata": {},
   "outputs": [],
   "source": [
    "## NEXT: confirm the same results in log-levels"
   ]
  },
  {
   "cell_type": "code",
   "execution_count": 32,
   "id": "0f364a4d-94b4-4f1e-866d-d42857f971fb",
   "metadata": {},
   "outputs": [],
   "source": [
    "ko_ret = np.diff(np.log(ko.PRC.values))\n",
    "pep_ret = np.diff(np.log(pep.PRC.values))\n",
    "df_ret = pd.DataFrame({'rko' : ko_ret, 'rpep' : pep_ret})"
   ]
  },
  {
   "cell_type": "code",
   "execution_count": 33,
   "id": "83f73ba1-45ec-4adc-b8ed-6f905ef78fb2",
   "metadata": {},
   "outputs": [
    {
     "data": {
      "text/html": [
       "<div>\n",
       "<style scoped>\n",
       "    .dataframe tbody tr th:only-of-type {\n",
       "        vertical-align: middle;\n",
       "    }\n",
       "\n",
       "    .dataframe tbody tr th {\n",
       "        vertical-align: top;\n",
       "    }\n",
       "\n",
       "    .dataframe thead th {\n",
       "        text-align: right;\n",
       "    }\n",
       "</style>\n",
       "<table border=\"1\" class=\"dataframe\">\n",
       "  <thead>\n",
       "    <tr style=\"text-align: right;\">\n",
       "      <th></th>\n",
       "      <th>rko</th>\n",
       "      <th>rpep</th>\n",
       "    </tr>\n",
       "  </thead>\n",
       "  <tbody>\n",
       "    <tr>\n",
       "      <th>0</th>\n",
       "      <td>-0.015314</td>\n",
       "      <td>0.004751</td>\n",
       "    </tr>\n",
       "    <tr>\n",
       "      <th>1</th>\n",
       "      <td>0.009217</td>\n",
       "      <td>-0.014320</td>\n",
       "    </tr>\n",
       "    <tr>\n",
       "      <th>2</th>\n",
       "      <td>0.006098</td>\n",
       "      <td>-0.016970</td>\n",
       "    </tr>\n",
       "    <tr>\n",
       "      <th>3</th>\n",
       "      <td>0.001519</td>\n",
       "      <td>-0.029779</td>\n",
       "    </tr>\n",
       "    <tr>\n",
       "      <th>4</th>\n",
       "      <td>-0.004563</td>\n",
       "      <td>0.027331</td>\n",
       "    </tr>\n",
       "  </tbody>\n",
       "</table>\n",
       "</div>"
      ],
      "text/plain": [
       "        rko      rpep\n",
       "0 -0.015314  0.004751\n",
       "1  0.009217 -0.014320\n",
       "2  0.006098 -0.016970\n",
       "3  0.001519 -0.029779\n",
       "4 -0.004563  0.027331"
      ]
     },
     "execution_count": 33,
     "metadata": {},
     "output_type": "execute_result"
    }
   ],
   "source": [
    "df_ret.head()"
   ]
  },
  {
   "cell_type": "code",
   "execution_count": 35,
   "id": "e964f120-0c46-4f77-922a-8e3d9279f018",
   "metadata": {},
   "outputs": [
    {
     "data": {
      "text/plain": [
       "<AxesSubplot:>"
      ]
     },
     "execution_count": 35,
     "metadata": {},
     "output_type": "execute_result"
    },
    {
     "data": {
      "image/png": "[encoded data removed]",
      "text/plain": [
       "<Figure size 432x288 with 1 Axes>"
      ]
     },
     "metadata": {
      "needs_background": "light"
     },
     "output_type": "display_data"
    }
   ],
   "source": [
    "df_ret.plot()"
   ]
  },
  {
   "cell_type": "code",
   "execution_count": 36,
   "id": "472c5eb2-7a79-444b-9418-7e9fe24d63fb",
   "metadata": {},
   "outputs": [],
   "source": [
    "## Rerun the ADF test for log-returns for KO\n",
    "ko_ret_adf = sm.tsa.stattools.adfuller(df_ret.rko, maxlag=10)"
   ]
  },
  {
   "cell_type": "code",
   "execution_count": 38,
   "id": "edfbf09f-dd2b-4ea0-8fc0-6f4882c23bce",
   "metadata": {},
   "outputs": [
    {
     "data": {
      "text/plain": [
       "(-78.0624887771179,\n",
       " 0.0,\n",
       " 1,\n",
       " 11604,\n",
       " {'1%': -3.4309136631471953,\n",
       "  '5%': -2.8617891093736247,\n",
       "  '10%': -2.566902595835203},\n",
       " -54487.93107422392)"
      ]
     },
     "execution_count": 38,
     "metadata": {},
     "output_type": "execute_result"
    }
   ],
   "source": [
    "## Big F test, small pval => reject (meaning: no unit-root nonstationarity)\n",
    "ko_ret_adf"
   ]
  },
  {
   "cell_type": "code",
   "execution_count": 40,
   "id": "c011427b-bb75-44ac-93b7-11b3c8fd4942",
   "metadata": {},
   "outputs": [],
   "source": [
    "## Rerun the ADF test for log-returns for PEP\n",
    "pep_ret_adf = sm.tsa.stattools.adfuller(df_ret.rpep, maxlag=10)"
   ]
  },
  {
   "cell_type": "code",
   "execution_count": 41,
   "id": "716c4968-d0a9-4aaa-af2d-0466e66959a1",
   "metadata": {},
   "outputs": [
    {
     "data": {
      "text/plain": [
       "(-50.31924252049298,\n",
       " 0.0,\n",
       " 4,\n",
       " 11601,\n",
       " {'1%': -3.4309138089418534,\n",
       "  '5%': -2.861789173801056,\n",
       "  '10%': -2.5669026301296696},\n",
       " -53453.15145068078)"
      ]
     },
     "execution_count": 41,
     "metadata": {},
     "output_type": "execute_result"
    }
   ],
   "source": [
    "pep_ret_adf"
   ]
  },
  {
   "cell_type": "code",
   "execution_count": 45,
   "id": "05518bb4-5798-43d7-be91-0247e004730a",
   "metadata": {},
   "outputs": [],
   "source": [
    "## Run the Engle-Granger regression (NB: in this case pep on ko)\n",
    "Y = np.log(df.pep.values)\n",
    "X = np.log(df.ko.values)\n",
    "X = sm.add_constant(X)\n",
    "\n",
    "reg = sm.OLS(Y,X)\n",
    "results = reg.fit()"
   ]
  },
  {
   "cell_type": "code",
   "execution_count": 46,
   "id": "16301f5f-42e5-4c33-bee6-79efd93c272b",
   "metadata": {},
   "outputs": [
    {
     "data": {
      "text/html": [
       "<table class=\"simpletable\">\n",
       "<caption>OLS Regression Results</caption>\n",
       "<tr>\n",
       "  <th>Dep. Variable:</th>            <td>y</td>        <th>  R-squared:         </th> <td>   0.728</td>\n",
       "</tr>\n",
       "<tr>\n",
       "  <th>Model:</th>                   <td>OLS</td>       <th>  Adj. R-squared:    </th> <td>   0.727</td>\n",
       "</tr>\n",
       "<tr>\n",
       "  <th>Method:</th>             <td>Least Squares</td>  <th>  F-statistic:       </th> <td>   667.7</td>\n",
       "</tr>\n",
       "<tr>\n",
       "  <th>Date:</th>             <td>Mon, 11 Apr 2022</td> <th>  Prob (F-statistic):</th> <td>1.49e-72</td>\n",
       "</tr>\n",
       "<tr>\n",
       "  <th>Time:</th>                 <td>09:47:56</td>     <th>  Log-Likelihood:    </th> <td>  707.46</td>\n",
       "</tr>\n",
       "<tr>\n",
       "  <th>No. Observations:</th>      <td>   252</td>      <th>  AIC:               </th> <td>  -1411.</td>\n",
       "</tr>\n",
       "<tr>\n",
       "  <th>Df Residuals:</th>          <td>   250</td>      <th>  BIC:               </th> <td>  -1404.</td>\n",
       "</tr>\n",
       "<tr>\n",
       "  <th>Df Model:</th>              <td>     1</td>      <th>                     </th>     <td> </td>   \n",
       "</tr>\n",
       "<tr>\n",
       "  <th>Covariance Type:</th>      <td>nonrobust</td>    <th>                     </th>     <td> </td>   \n",
       "</tr>\n",
       "</table>\n",
       "<table class=\"simpletable\">\n",
       "<tr>\n",
       "    <td></td>       <th>coef</th>     <th>std err</th>      <th>t</th>      <th>P>|t|</th>  <th>[0.025</th>    <th>0.975]</th>  \n",
       "</tr>\n",
       "<tr>\n",
       "  <th>const</th> <td>    1.7707</td> <td>    0.108</td> <td>   16.331</td> <td> 0.000</td> <td>    1.557</td> <td>    1.984</td>\n",
       "</tr>\n",
       "<tr>\n",
       "  <th>x1</th>    <td>    0.7534</td> <td>    0.029</td> <td>   25.841</td> <td> 0.000</td> <td>    0.696</td> <td>    0.811</td>\n",
       "</tr>\n",
       "</table>\n",
       "<table class=\"simpletable\">\n",
       "<tr>\n",
       "  <th>Omnibus:</th>       <td>18.742</td> <th>  Durbin-Watson:     </th> <td>   0.176</td>\n",
       "</tr>\n",
       "<tr>\n",
       "  <th>Prob(Omnibus):</th> <td> 0.000</td> <th>  Jarque-Bera (JB):  </th> <td>  31.426</td>\n",
       "</tr>\n",
       "<tr>\n",
       "  <th>Skew:</th>          <td>-0.440</td> <th>  Prob(JB):          </th> <td>1.50e-07</td>\n",
       "</tr>\n",
       "<tr>\n",
       "  <th>Kurtosis:</th>      <td> 4.489</td> <th>  Cond. No.          </th> <td>    468.</td>\n",
       "</tr>\n",
       "</table><br/><br/>Notes:<br/>[1] Standard Errors assume that the covariance matrix of the errors is correctly specified."
      ],
      "text/plain": [
       "<class 'statsmodels.iolib.summary.Summary'>\n",
       "\"\"\"\n",
       "                            OLS Regression Results                            \n",
       "==============================================================================\n",
       "Dep. Variable:                      y   R-squared:                       0.728\n",
       "Model:                            OLS   Adj. R-squared:                  0.727\n",
       "Method:                 Least Squares   F-statistic:                     667.7\n",
       "Date:                Mon, 11 Apr 2022   Prob (F-statistic):           1.49e-72\n",
       "Time:                        09:47:56   Log-Likelihood:                 707.46\n",
       "No. Observations:                 252   AIC:                            -1411.\n",
       "Df Residuals:                     250   BIC:                            -1404.\n",
       "Df Model:                           1                                         \n",
       "Covariance Type:            nonrobust                                         \n",
       "==============================================================================\n",
       "                 coef    std err          t      P>|t|      [0.025      0.975]\n",
       "------------------------------------------------------------------------------\n",
       "const          1.7707      0.108     16.331      0.000       1.557       1.984\n",
       "x1             0.7534      0.029     25.841      0.000       0.696       0.811\n",
       "==============================================================================\n",
       "Omnibus:                       18.742   Durbin-Watson:                   0.176\n",
       "Prob(Omnibus):                  0.000   Jarque-Bera (JB):               31.426\n",
       "Skew:                          -0.440   Prob(JB):                     1.50e-07\n",
       "Kurtosis:                       4.489   Cond. No.                         468.\n",
       "==============================================================================\n",
       "\n",
       "Notes:\n",
       "[1] Standard Errors assume that the covariance matrix of the errors is correctly specified.\n",
       "\"\"\""
      ]
     },
     "execution_count": 46,
     "metadata": {},
     "output_type": "execute_result"
    }
   ],
   "source": [
    "results.summary()"
   ]
  },
  {
   "cell_type": "code",
   "execution_count": 48,
   "id": "9192490c-a74e-4675-9791-98e299291ca6",
   "metadata": {},
   "outputs": [],
   "source": [
    "uhat = results.resid"
   ]
  },
  {
   "cell_type": "code",
   "execution_count": 58,
   "id": "74415349-3131-4d81-a486-7323bb8845e0",
   "metadata": {},
   "outputs": [],
   "source": [
    "## Run ADF on these residuals\n",
    "coint_adf = sm.tsa.stattools.adfuller(uhat, maxlag=10)"
   ]
  },
  {
   "cell_type": "code",
   "execution_count": 59,
   "id": "a5a143a5-a118-4b6f-bd24-98d8e20f2fdd",
   "metadata": {},
   "outputs": [
    {
     "data": {
      "text/plain": [
       "(-4.651289951955719,\n",
       " 0.00010379000659609667,\n",
       " 2,\n",
       " 249,\n",
       " {'1%': -3.4568881317725864,\n",
       "  '5%': -2.8732185133016057,\n",
       "  '10%': -2.5729936189738876},\n",
       " -1794.3435435611527)"
      ]
     },
     "execution_count": 59,
     "metadata": {},
     "output_type": "execute_result"
    }
   ],
   "source": [
    "coint_adf"
   ]
  },
  {
   "cell_type": "code",
   "execution_count": 61,
   "id": "40543a2f-0de5-405f-80a7-e8206c19b04c",
   "metadata": {},
   "outputs": [
    {
     "data": {
      "text/plain": [
       "<AxesSubplot:>"
      ]
     },
     "execution_count": 61,
     "metadata": {},
     "output_type": "execute_result"
    },
    {
     "data": {
      "image/png": "[encoded data removed]",
      "text/plain": [
       "<Figure size 432x288 with 1 Axes>"
      ]
     },
     "metadata": {
      "needs_background": "light"
     },
     "output_type": "display_data"
    }
   ],
   "source": [
    "us = pd.Series(uhat)\n",
    "us.plot()"
   ]
  },
  {
   "cell_type": "code",
   "execution_count": 60,
   "id": "06e6ed22-77b4-482f-b914-029a5664eaf7",
   "metadata": {},
   "outputs": [],
   "source": [
    "## Big F stat, small pval => reject! Meaning that they are cointegrated!"
   ]
  },
  {
   "cell_type": "code",
   "execution_count": 52,
   "id": "44a2a238-ef3d-4cd5-9755-efbbc8904d8a",
   "metadata": {},
   "outputs": [],
   "source": [
    "## NB: rerun as ko ~ pep just to make sure"
   ]
  },
  {
   "cell_type": "markdown",
   "id": "5c7db72a-57bd-4dbe-a5d3-842f7357c9e7",
   "metadata": {},
   "source": [
    "## Review of the Steps\n",
    "\n",
    "1. Run ADF tests for each series individually\n",
    "    - We expect that each will be unit-root processes\n",
    "    - Meaning we should fail to reject at this stage for both\n",
    "    - (They can't be cointegrated unless they are each separately integrated)\n",
    "    \n",
    "2. First difference each series and run the ADF test on the resulting series\n",
    "    - We expect to reject at this stage\n",
    "    - We need first-differencing to account for the individual unit-root behavior\n",
    "    \n",
    "3. Run the Engle-Granger regression\n",
    "    - In this case we might expect KO to lead PEP\n",
    "    - So regress PEP ~ KO\n",
    "    - Grab the estimated residuals: uhat\n",
    "    - Run the ADF test on uhat\n",
    "    - If they are cointegrated we should reject!\n",
    "4. Run the error-correction models"
   ]
  },
  {
   "cell_type": "code",
   "execution_count": null,
   "id": "8149bcb9-4d26-4f6b-842e-9e595086d5b7",
   "metadata": {},
   "outputs": [],
   "source": []
  }
 ],
 "metadata": {
  "kernelspec": {
   "display_name": "Python 3 (ipykernel)",
   "language": "python",
   "name": "python3"
  },
  "language_info": {
   "codemirror_mode": {
    "name": "ipython",
    "version": 3
   },
   "file_extension": ".py",
   "mimetype": "text/x-python",
   "name": "python",
   "nbconvert_exporter": "python",
   "pygments_lexer": "ipython3",
   "version": "3.8.5"
  }
 },
 "nbformat": 4,
 "nbformat_minor": 5
}
