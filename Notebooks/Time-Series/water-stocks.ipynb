{
 "cells": [
  {
   "cell_type": "markdown",
   "id": "e52652fe-1173-4d19-84aa-751f9ae1764a",
   "metadata": {},
   "source": [
    "## Water Stocks"
   ]
  },
  {
   "cell_type": "code",
   "execution_count": 1,
   "id": "5690de7b-349c-40e8-aa48-35365fb5f9fe",
   "metadata": {},
   "outputs": [],
   "source": [
    "import numpy as np\n",
    "import pandas as pd\n",
    "import statsmodels.api as sm\n",
    "import matplotlib.pyplot as plt"
   ]
  },
  {
   "cell_type": "markdown",
   "id": "7b27d018-a14f-4518-8c88-1cf4fa38da68",
   "metadata": {},
   "source": [
    "<br>\n",
    "\n",
    "See docs here: https://www.statsmodels.org/0.6.1/generated/statsmodels.tsa.stattools.adfuller.html\n",
    "\n",
    "<br>"
   ]
  },
  {
   "cell_type": "markdown",
   "id": "2d6d3b22-bce8-48a3-8cf2-ae5a77849ff4",
   "metadata": {},
   "source": [
    "### __PERMNO: 26463__"
   ]
  },
  {
   "cell_type": "code",
   "execution_count": 2,
   "id": "b3675f97-ea9e-46e3-b8a3-b3cb42660ba4",
   "metadata": {},
   "outputs": [],
   "source": [
    "permno = \"26463\"\n",
    "file_name = f\"data/Water/{permno}.csv\"\n",
    "ts = pd.read_csv(file_name, sep=\"|\")"
   ]
  },
  {
   "cell_type": "code",
   "execution_count": 3,
   "id": "0b38a2b9-698b-480e-99aa-2db74981b4d8",
   "metadata": {},
   "outputs": [
    {
     "data": {
      "text/html": [
       "<div>\n",
       "<style scoped>\n",
       "    .dataframe tbody tr th:only-of-type {\n",
       "        vertical-align: middle;\n",
       "    }\n",
       "\n",
       "    .dataframe tbody tr th {\n",
       "        vertical-align: top;\n",
       "    }\n",
       "\n",
       "    .dataframe thead th {\n",
       "        text-align: right;\n",
       "    }\n",
       "</style>\n",
       "<table border=\"1\" class=\"dataframe\">\n",
       "  <thead>\n",
       "    <tr style=\"text-align: right;\">\n",
       "      <th></th>\n",
       "      <th>PERMNO</th>\n",
       "      <th>DATE</th>\n",
       "      <th>PRC</th>\n",
       "    </tr>\n",
       "  </thead>\n",
       "  <tbody>\n",
       "    <tr>\n",
       "      <th>0</th>\n",
       "      <td>26463</td>\n",
       "      <td>19970102</td>\n",
       "      <td>29.25</td>\n",
       "    </tr>\n",
       "    <tr>\n",
       "      <th>1</th>\n",
       "      <td>26463</td>\n",
       "      <td>19970103</td>\n",
       "      <td>29.25</td>\n",
       "    </tr>\n",
       "    <tr>\n",
       "      <th>2</th>\n",
       "      <td>26463</td>\n",
       "      <td>19970106</td>\n",
       "      <td>29.25</td>\n",
       "    </tr>\n",
       "    <tr>\n",
       "      <th>3</th>\n",
       "      <td>26463</td>\n",
       "      <td>19970107</td>\n",
       "      <td>29.75</td>\n",
       "    </tr>\n",
       "    <tr>\n",
       "      <th>4</th>\n",
       "      <td>26463</td>\n",
       "      <td>19970108</td>\n",
       "      <td>30.00</td>\n",
       "    </tr>\n",
       "  </tbody>\n",
       "</table>\n",
       "</div>"
      ],
      "text/plain": [
       "   PERMNO      DATE    PRC\n",
       "0   26463  19970102  29.25\n",
       "1   26463  19970103  29.25\n",
       "2   26463  19970106  29.25\n",
       "3   26463  19970107  29.75\n",
       "4   26463  19970108  30.00"
      ]
     },
     "execution_count": 3,
     "metadata": {},
     "output_type": "execute_result"
    }
   ],
   "source": [
    "ts.head()"
   ]
  },
  {
   "cell_type": "code",
   "execution_count": 4,
   "id": "1506c4b0-ff52-4327-b8cb-bac7470498f8",
   "metadata": {},
   "outputs": [
    {
     "data": {
      "text/html": [
       "<div>\n",
       "<style scoped>\n",
       "    .dataframe tbody tr th:only-of-type {\n",
       "        vertical-align: middle;\n",
       "    }\n",
       "\n",
       "    .dataframe tbody tr th {\n",
       "        vertical-align: top;\n",
       "    }\n",
       "\n",
       "    .dataframe thead th {\n",
       "        text-align: right;\n",
       "    }\n",
       "</style>\n",
       "<table border=\"1\" class=\"dataframe\">\n",
       "  <thead>\n",
       "    <tr style=\"text-align: right;\">\n",
       "      <th></th>\n",
       "      <th>PERMNO</th>\n",
       "      <th>DATE</th>\n",
       "      <th>PRC</th>\n",
       "    </tr>\n",
       "  </thead>\n",
       "  <tbody>\n",
       "    <tr>\n",
       "      <th>3015</th>\n",
       "      <td>26463</td>\n",
       "      <td>20081224</td>\n",
       "      <td>23.00</td>\n",
       "    </tr>\n",
       "    <tr>\n",
       "      <th>3016</th>\n",
       "      <td>26463</td>\n",
       "      <td>20081226</td>\n",
       "      <td>23.17</td>\n",
       "    </tr>\n",
       "    <tr>\n",
       "      <th>3017</th>\n",
       "      <td>26463</td>\n",
       "      <td>20081229</td>\n",
       "      <td>22.89</td>\n",
       "    </tr>\n",
       "    <tr>\n",
       "      <th>3018</th>\n",
       "      <td>26463</td>\n",
       "      <td>20081230</td>\n",
       "      <td>22.93</td>\n",
       "    </tr>\n",
       "    <tr>\n",
       "      <th>3019</th>\n",
       "      <td>26463</td>\n",
       "      <td>20081231</td>\n",
       "      <td>23.61</td>\n",
       "    </tr>\n",
       "  </tbody>\n",
       "</table>\n",
       "</div>"
      ],
      "text/plain": [
       "      PERMNO      DATE    PRC\n",
       "3015   26463  20081224  23.00\n",
       "3016   26463  20081226  23.17\n",
       "3017   26463  20081229  22.89\n",
       "3018   26463  20081230  22.93\n",
       "3019   26463  20081231  23.61"
      ]
     },
     "execution_count": 4,
     "metadata": {},
     "output_type": "execute_result"
    }
   ],
   "source": [
    "ts.tail()"
   ]
  },
  {
   "cell_type": "code",
   "execution_count": 5,
   "id": "57ef0a07-3dd1-4ee0-a93c-b06239f3ecf0",
   "metadata": {},
   "outputs": [
    {
     "data": {
      "text/plain": [
       "count    3020.000000\n",
       "mean       27.356949\n",
       "std         3.433302\n",
       "min        20.450000\n",
       "25%        24.800000\n",
       "50%        26.821250\n",
       "75%        29.201250\n",
       "max        39.750000\n",
       "Name: PRC, dtype: float64"
      ]
     },
     "execution_count": 5,
     "metadata": {},
     "output_type": "execute_result"
    }
   ],
   "source": [
    "ts.PRC.describe()"
   ]
  },
  {
   "cell_type": "code",
   "execution_count": 6,
   "id": "5d97dca5-32c0-43b3-9131-9253f36a6144",
   "metadata": {},
   "outputs": [
    {
     "data": {
      "text/plain": [
       "<AxesSubplot:>"
      ]
     },
     "execution_count": 6,
     "metadata": {},
     "output_type": "execute_result"
    },
    {
     "data": {
      "image/png": "[encoded data removed]",
      "text/plain": [
       "<Figure size 432x288 with 1 Axes>"
      ]
     },
     "metadata": {
      "needs_background": "light"
     },
     "output_type": "display_data"
    }
   ],
   "source": [
    "ts.PRC.plot()"
   ]
  },
  {
   "cell_type": "code",
   "execution_count": 7,
   "id": "14020e4c-d605-4605-867d-8890fdaccc2b",
   "metadata": {},
   "outputs": [
    {
     "data": {
      "text/plain": [
       "(-0.38606194099434604,\n",
       " 0.5422793697930293,\n",
       " 7,\n",
       " 3012,\n",
       " {'1%': -2.5664826972720007,\n",
       "  '5%': -1.9410895463998146,\n",
       "  '10%': -1.616732117618395},\n",
       " -14210.621235175742)"
      ]
     },
     "execution_count": 7,
     "metadata": {},
     "output_type": "execute_result"
    }
   ],
   "source": [
    "results = sm.tsa.stattools.adfuller(ts.PRC.apply(np.log), autolag='AIC', regression='n')\n",
    "results"
   ]
  },
  {
   "cell_type": "code",
   "execution_count": null,
   "id": "31958595-3244-46d1-a028-3ed076955c10",
   "metadata": {},
   "outputs": [],
   "source": []
  },
  {
   "cell_type": "markdown",
   "id": "65ba7ef4-283a-452d-920b-99d10e315071",
   "metadata": {},
   "source": [
    "### __PERMNO: 52898__"
   ]
  },
  {
   "cell_type": "code",
   "execution_count": 8,
   "id": "e26e338e-c13f-4f00-ac94-91e89e5fd283",
   "metadata": {},
   "outputs": [],
   "source": [
    "permno = \"52898\"\n",
    "file_name = f\"data/Water/{permno}.csv\"\n",
    "ts = pd.read_csv(file_name, sep=\"|\")"
   ]
  },
  {
   "cell_type": "code",
   "execution_count": 9,
   "id": "485fa54f-d899-4526-8503-2f3444911297",
   "metadata": {},
   "outputs": [
    {
     "data": {
      "text/html": [
       "<div>\n",
       "<style scoped>\n",
       "    .dataframe tbody tr th:only-of-type {\n",
       "        vertical-align: middle;\n",
       "    }\n",
       "\n",
       "    .dataframe tbody tr th {\n",
       "        vertical-align: top;\n",
       "    }\n",
       "\n",
       "    .dataframe thead th {\n",
       "        text-align: right;\n",
       "    }\n",
       "</style>\n",
       "<table border=\"1\" class=\"dataframe\">\n",
       "  <thead>\n",
       "    <tr style=\"text-align: right;\">\n",
       "      <th></th>\n",
       "      <th>PERMNO</th>\n",
       "      <th>DATE</th>\n",
       "      <th>PRC</th>\n",
       "    </tr>\n",
       "  </thead>\n",
       "  <tbody>\n",
       "    <tr>\n",
       "      <th>0</th>\n",
       "      <td>52898</td>\n",
       "      <td>19970102</td>\n",
       "      <td>19.500</td>\n",
       "    </tr>\n",
       "    <tr>\n",
       "      <th>1</th>\n",
       "      <td>52898</td>\n",
       "      <td>19970103</td>\n",
       "      <td>20.250</td>\n",
       "    </tr>\n",
       "    <tr>\n",
       "      <th>2</th>\n",
       "      <td>52898</td>\n",
       "      <td>19970106</td>\n",
       "      <td>20.125</td>\n",
       "    </tr>\n",
       "    <tr>\n",
       "      <th>3</th>\n",
       "      <td>52898</td>\n",
       "      <td>19970107</td>\n",
       "      <td>20.000</td>\n",
       "    </tr>\n",
       "    <tr>\n",
       "      <th>4</th>\n",
       "      <td>52898</td>\n",
       "      <td>19970108</td>\n",
       "      <td>20.125</td>\n",
       "    </tr>\n",
       "  </tbody>\n",
       "</table>\n",
       "</div>"
      ],
      "text/plain": [
       "   PERMNO      DATE     PRC\n",
       "0   52898  19970102  19.500\n",
       "1   52898  19970103  20.250\n",
       "2   52898  19970106  20.125\n",
       "3   52898  19970107  20.000\n",
       "4   52898  19970108  20.125"
      ]
     },
     "execution_count": 9,
     "metadata": {},
     "output_type": "execute_result"
    }
   ],
   "source": [
    "ts.head()"
   ]
  },
  {
   "cell_type": "code",
   "execution_count": 10,
   "id": "0e7d81af-24d4-4f85-b878-57d2f48cde69",
   "metadata": {},
   "outputs": [
    {
     "data": {
      "text/html": [
       "<div>\n",
       "<style scoped>\n",
       "    .dataframe tbody tr th:only-of-type {\n",
       "        vertical-align: middle;\n",
       "    }\n",
       "\n",
       "    .dataframe tbody tr th {\n",
       "        vertical-align: top;\n",
       "    }\n",
       "\n",
       "    .dataframe thead th {\n",
       "        text-align: right;\n",
       "    }\n",
       "</style>\n",
       "<table border=\"1\" class=\"dataframe\">\n",
       "  <thead>\n",
       "    <tr style=\"text-align: right;\">\n",
       "      <th></th>\n",
       "      <th>PERMNO</th>\n",
       "      <th>DATE</th>\n",
       "      <th>PRC</th>\n",
       "    </tr>\n",
       "  </thead>\n",
       "  <tbody>\n",
       "    <tr>\n",
       "      <th>3015</th>\n",
       "      <td>52898</td>\n",
       "      <td>20081224</td>\n",
       "      <td>20.08</td>\n",
       "    </tr>\n",
       "    <tr>\n",
       "      <th>3016</th>\n",
       "      <td>52898</td>\n",
       "      <td>20081226</td>\n",
       "      <td>20.13</td>\n",
       "    </tr>\n",
       "    <tr>\n",
       "      <th>3017</th>\n",
       "      <td>52898</td>\n",
       "      <td>20081229</td>\n",
       "      <td>20.00</td>\n",
       "    </tr>\n",
       "    <tr>\n",
       "      <th>3018</th>\n",
       "      <td>52898</td>\n",
       "      <td>20081230</td>\n",
       "      <td>19.00</td>\n",
       "    </tr>\n",
       "    <tr>\n",
       "      <th>3019</th>\n",
       "      <td>52898</td>\n",
       "      <td>20081231</td>\n",
       "      <td>20.59</td>\n",
       "    </tr>\n",
       "  </tbody>\n",
       "</table>\n",
       "</div>"
      ],
      "text/plain": [
       "      PERMNO      DATE    PRC\n",
       "3015   52898  20081224  20.08\n",
       "3016   52898  20081226  20.13\n",
       "3017   52898  20081229  20.00\n",
       "3018   52898  20081230  19.00\n",
       "3019   52898  20081231  20.59"
      ]
     },
     "execution_count": 10,
     "metadata": {},
     "output_type": "execute_result"
    }
   ],
   "source": [
    "ts.tail()"
   ]
  },
  {
   "cell_type": "code",
   "execution_count": 11,
   "id": "4ea3c047-9ea3-4a2e-bbef-234906346438",
   "metadata": {},
   "outputs": [
    {
     "data": {
      "text/plain": [
       "count    3020.000000\n",
       "mean       22.810352\n",
       "std         3.464802\n",
       "min        14.660000\n",
       "25%        20.677500\n",
       "50%        22.500000\n",
       "75%        24.030000\n",
       "max        38.620000\n",
       "Name: PRC, dtype: float64"
      ]
     },
     "execution_count": 11,
     "metadata": {},
     "output_type": "execute_result"
    }
   ],
   "source": [
    "ts.PRC.describe()"
   ]
  },
  {
   "cell_type": "code",
   "execution_count": null,
   "id": "0e872a94-42e1-4d43-b7d9-4cef04f409af",
   "metadata": {},
   "outputs": [],
   "source": []
  },
  {
   "cell_type": "code",
   "execution_count": null,
   "id": "63fe913a-bde4-462b-9f21-b366676070dd",
   "metadata": {},
   "outputs": [],
   "source": []
  },
  {
   "cell_type": "code",
   "execution_count": 12,
   "id": "33a420b6-2687-41ed-8035-6cb89e20bf21",
   "metadata": {},
   "outputs": [
    {
     "data": {
      "text/plain": [
       "<AxesSubplot:>"
      ]
     },
     "execution_count": 12,
     "metadata": {},
     "output_type": "execute_result"
    },
    {
     "data": {
      "image/png": "[encoded data removed]",
      "text/plain": [
       "<Figure size 432x288 with 1 Axes>"
      ]
     },
     "metadata": {
      "needs_background": "light"
     },
     "output_type": "display_data"
    }
   ],
   "source": [
    "ts.PRC.plot()"
   ]
  },
  {
   "cell_type": "code",
   "execution_count": 13,
   "id": "ea81a036-f749-4566-8cfd-ac1c530c0700",
   "metadata": {},
   "outputs": [
    {
     "data": {
      "text/plain": [
       "(-0.1435709647911438,\n",
       " 0.6345162330906489,\n",
       " 8,\n",
       " 3011,\n",
       " {'1%': -2.5664829440661556,\n",
       "  '5%': -1.941089576262037,\n",
       "  '10%': -1.6167320885300582},\n",
       " -14329.546946910647)"
      ]
     },
     "execution_count": 13,
     "metadata": {},
     "output_type": "execute_result"
    }
   ],
   "source": [
    "results = sm.tsa.stattools.adfuller(ts.PRC.apply(np.log), autolag='AIC', regression='n')\n",
    "results"
   ]
  },
  {
   "cell_type": "markdown",
   "id": "0c2f3f8e-0340-47b3-b879-666882fedf0f",
   "metadata": {},
   "source": [
    "### __PERMNO: 71475__"
   ]
  },
  {
   "cell_type": "code",
   "execution_count": 14,
   "id": "1ab42cf1-7b15-477e-acab-3685cc0e45eb",
   "metadata": {},
   "outputs": [],
   "source": [
    "permno = \"71475\"\n",
    "file_name = f\"data/Water/{permno}.csv\"\n",
    "ts = pd.read_csv(file_name, sep=\"|\")"
   ]
  },
  {
   "cell_type": "code",
   "execution_count": 15,
   "id": "7f7afe13-c44d-4fa9-bfb8-aa897dd3d246",
   "metadata": {},
   "outputs": [
    {
     "data": {
      "text/html": [
       "<div>\n",
       "<style scoped>\n",
       "    .dataframe tbody tr th:only-of-type {\n",
       "        vertical-align: middle;\n",
       "    }\n",
       "\n",
       "    .dataframe tbody tr th {\n",
       "        vertical-align: top;\n",
       "    }\n",
       "\n",
       "    .dataframe thead th {\n",
       "        text-align: right;\n",
       "    }\n",
       "</style>\n",
       "<table border=\"1\" class=\"dataframe\">\n",
       "  <thead>\n",
       "    <tr style=\"text-align: right;\">\n",
       "      <th></th>\n",
       "      <th>PERMNO</th>\n",
       "      <th>DATE</th>\n",
       "      <th>PRC</th>\n",
       "    </tr>\n",
       "  </thead>\n",
       "  <tbody>\n",
       "    <tr>\n",
       "      <th>0</th>\n",
       "      <td>71475</td>\n",
       "      <td>19970102</td>\n",
       "      <td>21.875</td>\n",
       "    </tr>\n",
       "    <tr>\n",
       "      <th>1</th>\n",
       "      <td>71475</td>\n",
       "      <td>19970103</td>\n",
       "      <td>21.875</td>\n",
       "    </tr>\n",
       "    <tr>\n",
       "      <th>2</th>\n",
       "      <td>71475</td>\n",
       "      <td>19970106</td>\n",
       "      <td>22.000</td>\n",
       "    </tr>\n",
       "    <tr>\n",
       "      <th>3</th>\n",
       "      <td>71475</td>\n",
       "      <td>19970107</td>\n",
       "      <td>22.000</td>\n",
       "    </tr>\n",
       "    <tr>\n",
       "      <th>4</th>\n",
       "      <td>71475</td>\n",
       "      <td>19970108</td>\n",
       "      <td>22.250</td>\n",
       "    </tr>\n",
       "  </tbody>\n",
       "</table>\n",
       "</div>"
      ],
      "text/plain": [
       "   PERMNO      DATE     PRC\n",
       "0   71475  19970102  21.875\n",
       "1   71475  19970103  21.875\n",
       "2   71475  19970106  22.000\n",
       "3   71475  19970107  22.000\n",
       "4   71475  19970108  22.250"
      ]
     },
     "execution_count": 15,
     "metadata": {},
     "output_type": "execute_result"
    }
   ],
   "source": [
    "ts.head()"
   ]
  },
  {
   "cell_type": "code",
   "execution_count": 16,
   "id": "aaa1aa1d-d8cd-49aa-91d9-fe2fda769d8e",
   "metadata": {},
   "outputs": [
    {
     "data": {
      "text/html": [
       "<div>\n",
       "<style scoped>\n",
       "    .dataframe tbody tr th:only-of-type {\n",
       "        vertical-align: middle;\n",
       "    }\n",
       "\n",
       "    .dataframe tbody tr th {\n",
       "        vertical-align: top;\n",
       "    }\n",
       "\n",
       "    .dataframe thead th {\n",
       "        text-align: right;\n",
       "    }\n",
       "</style>\n",
       "<table border=\"1\" class=\"dataframe\">\n",
       "  <thead>\n",
       "    <tr style=\"text-align: right;\">\n",
       "      <th></th>\n",
       "      <th>PERMNO</th>\n",
       "      <th>DATE</th>\n",
       "      <th>PRC</th>\n",
       "    </tr>\n",
       "  </thead>\n",
       "  <tbody>\n",
       "    <tr>\n",
       "      <th>3015</th>\n",
       "      <td>71475</td>\n",
       "      <td>20081224</td>\n",
       "      <td>32.65</td>\n",
       "    </tr>\n",
       "    <tr>\n",
       "      <th>3016</th>\n",
       "      <td>71475</td>\n",
       "      <td>20081226</td>\n",
       "      <td>32.71</td>\n",
       "    </tr>\n",
       "    <tr>\n",
       "      <th>3017</th>\n",
       "      <td>71475</td>\n",
       "      <td>20081229</td>\n",
       "      <td>30.78</td>\n",
       "    </tr>\n",
       "    <tr>\n",
       "      <th>3018</th>\n",
       "      <td>71475</td>\n",
       "      <td>20081230</td>\n",
       "      <td>30.30</td>\n",
       "    </tr>\n",
       "    <tr>\n",
       "      <th>3019</th>\n",
       "      <td>71475</td>\n",
       "      <td>20081231</td>\n",
       "      <td>32.98</td>\n",
       "    </tr>\n",
       "  </tbody>\n",
       "</table>\n",
       "</div>"
      ],
      "text/plain": [
       "      PERMNO      DATE    PRC\n",
       "3015   71475  20081224  32.65\n",
       "3016   71475  20081226  32.71\n",
       "3017   71475  20081229  30.78\n",
       "3018   71475  20081230  30.30\n",
       "3019   71475  20081231  32.98"
      ]
     },
     "execution_count": 16,
     "metadata": {},
     "output_type": "execute_result"
    }
   ],
   "source": [
    "ts.tail()"
   ]
  },
  {
   "cell_type": "code",
   "execution_count": 17,
   "id": "a5e8e2ea-2475-4976-87f1-05f9d72cdb79",
   "metadata": {},
   "outputs": [
    {
     "data": {
      "text/plain": [
       "count    3020.000000\n",
       "mean       30.064923\n",
       "std         5.807499\n",
       "min        20.500000\n",
       "25%        24.937500\n",
       "50%        29.605000\n",
       "75%        35.150000\n",
       "max        45.450000\n",
       "Name: PRC, dtype: float64"
      ]
     },
     "execution_count": 17,
     "metadata": {},
     "output_type": "execute_result"
    }
   ],
   "source": [
    "ts.PRC.describe()"
   ]
  },
  {
   "cell_type": "code",
   "execution_count": 18,
   "id": "a07e15c0-2be8-44ab-a857-b01adcc9696c",
   "metadata": {},
   "outputs": [
    {
     "data": {
      "text/plain": [
       "<AxesSubplot:>"
      ]
     },
     "execution_count": 18,
     "metadata": {},
     "output_type": "execute_result"
    },
    {
     "data": {
      "image/png": "[encoded data removed]",
      "text/plain": [
       "<Figure size 432x288 with 1 Axes>"
      ]
     },
     "metadata": {
      "needs_background": "light"
     },
     "output_type": "display_data"
    }
   ],
   "source": [
    "ts.PRC.plot()"
   ]
  },
  {
   "cell_type": "code",
   "execution_count": 19,
   "id": "3387bb2a-b72e-4a8e-87b4-f89583ee3224",
   "metadata": {},
   "outputs": [
    {
     "data": {
      "text/plain": [
       "(0.3292926411448133,\n",
       " 0.7827068725931103,\n",
       " 9,\n",
       " 3010,\n",
       " {'1%': -2.5664831910243815,\n",
       "  '5%': -1.941089606144183,\n",
       "  '10%': -1.616732059422459},\n",
       " -14511.038715211667)"
      ]
     },
     "execution_count": 19,
     "metadata": {},
     "output_type": "execute_result"
    }
   ],
   "source": [
    "results = sm.tsa.stattools.adfuller(ts.PRC.apply(np.log), autolag='AIC', regression='n')\n",
    "results"
   ]
  },
  {
   "cell_type": "code",
   "execution_count": null,
   "id": "c56e76d8-bcec-426b-966d-52741a524457",
   "metadata": {},
   "outputs": [],
   "source": []
  },
  {
   "cell_type": "code",
   "execution_count": null,
   "id": "0d03bfdd-48c0-4784-942e-52579c94eb77",
   "metadata": {},
   "outputs": [],
   "source": []
  }
 ],
 "metadata": {
  "kernelspec": {
   "display_name": "Python 3 (ipykernel)",
   "language": "python",
   "name": "python3"
  },
  "language_info": {
   "codemirror_mode": {
    "name": "ipython",
    "version": 3
   },
   "file_extension": ".py",
   "mimetype": "text/x-python",
   "name": "python",
   "nbconvert_exporter": "python",
   "pygments_lexer": "ipython3",
   "version": "3.8.5"
  }
 },
 "nbformat": 4,
 "nbformat_minor": 5
}
