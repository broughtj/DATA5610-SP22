{
 "cells": [
  {
   "cell_type": "code",
   "execution_count": 2,
   "id": "57cd53be-c279-4cf1-a688-bb25e2a3acd2",
   "metadata": {},
   "outputs": [],
   "source": [
    "import numpy as np\n",
    "import pandas as pd\n",
    "import statsmodels.api as sm\n",
    "import matplotlib.pyplot as plt"
   ]
  },
  {
   "cell_type": "code",
   "execution_count": 3,
   "id": "b4b427eb-4fc4-40d4-a93b-d41001387821",
   "metadata": {},
   "outputs": [],
   "source": [
    "df = pd.read_csv(\"data/goog-bid-ask.csv\")"
   ]
  },
  {
   "cell_type": "code",
   "execution_count": 4,
   "id": "e9e75e07-4a04-4c49-b77b-3f2db12c2662",
   "metadata": {},
   "outputs": [
    {
     "data": {
      "text/html": [
       "<div>\n",
       "<style scoped>\n",
       "    .dataframe tbody tr th:only-of-type {\n",
       "        vertical-align: middle;\n",
       "    }\n",
       "\n",
       "    .dataframe tbody tr th {\n",
       "        vertical-align: top;\n",
       "    }\n",
       "\n",
       "    .dataframe thead th {\n",
       "        text-align: right;\n",
       "    }\n",
       "</style>\n",
       "<table border=\"1\" class=\"dataframe\">\n",
       "  <thead>\n",
       "    <tr style=\"text-align: right;\">\n",
       "      <th></th>\n",
       "      <th>SYMBOL</th>\n",
       "      <th>DATE</th>\n",
       "      <th>TIME</th>\n",
       "      <th>BID</th>\n",
       "      <th>OFR</th>\n",
       "    </tr>\n",
       "  </thead>\n",
       "  <tbody>\n",
       "    <tr>\n",
       "      <th>0</th>\n",
       "      <td>GOOG</td>\n",
       "      <td>20131104</td>\n",
       "      <td>12:00:00</td>\n",
       "      <td>1025.28</td>\n",
       "      <td>1025.84</td>\n",
       "    </tr>\n",
       "    <tr>\n",
       "      <th>1</th>\n",
       "      <td>GOOG</td>\n",
       "      <td>20131104</td>\n",
       "      <td>12:00:00</td>\n",
       "      <td>1025.38</td>\n",
       "      <td>1029.82</td>\n",
       "    </tr>\n",
       "    <tr>\n",
       "      <th>2</th>\n",
       "      <td>GOOG</td>\n",
       "      <td>20131104</td>\n",
       "      <td>12:00:00</td>\n",
       "      <td>1025.38</td>\n",
       "      <td>0.00</td>\n",
       "    </tr>\n",
       "    <tr>\n",
       "      <th>3</th>\n",
       "      <td>GOOG</td>\n",
       "      <td>20131104</td>\n",
       "      <td>12:00:00</td>\n",
       "      <td>1024.50</td>\n",
       "      <td>1025.84</td>\n",
       "    </tr>\n",
       "    <tr>\n",
       "      <th>4</th>\n",
       "      <td>GOOG</td>\n",
       "      <td>20131104</td>\n",
       "      <td>12:00:00</td>\n",
       "      <td>1024.50</td>\n",
       "      <td>1025.83</td>\n",
       "    </tr>\n",
       "  </tbody>\n",
       "</table>\n",
       "</div>"
      ],
      "text/plain": [
       "  SYMBOL      DATE      TIME      BID      OFR\n",
       "0   GOOG  20131104  12:00:00  1025.28  1025.84\n",
       "1   GOOG  20131104  12:00:00  1025.38  1029.82\n",
       "2   GOOG  20131104  12:00:00  1025.38     0.00\n",
       "3   GOOG  20131104  12:00:00  1024.50  1025.84\n",
       "4   GOOG  20131104  12:00:00  1024.50  1025.83"
      ]
     },
     "execution_count": 4,
     "metadata": {},
     "output_type": "execute_result"
    }
   ],
   "source": [
    "df.head()"
   ]
  },
  {
   "cell_type": "code",
   "execution_count": 8,
   "id": "86aeb05b-d3fa-4eca-9845-b5dae069cf4e",
   "metadata": {},
   "outputs": [
    {
     "data": {
      "text/plain": [
       "<AxesSubplot:>"
      ]
     },
     "execution_count": 8,
     "metadata": {},
     "output_type": "execute_result"
    },
    {
     "data": {
      "image/png": "[encoded data removed]",
      "text/plain": [
       "<Figure size 432x288 with 1 Axes>"
      ]
     },
     "metadata": {
      "needs_background": "light"
     },
     "output_type": "display_data"
    }
   ],
   "source": [
    "df.BID.plot()"
   ]
  },
  {
   "cell_type": "code",
   "execution_count": 10,
   "id": "ab8d8829-66da-48c3-bfe0-5c8250881c5e",
   "metadata": {},
   "outputs": [
    {
     "data": {
      "text/plain": [
       "0     1025.28\n",
       "1     1025.38\n",
       "2     1025.38\n",
       "3     1024.50\n",
       "4     1024.50\n",
       "5     1025.26\n",
       "6     1025.26\n",
       "7     1025.30\n",
       "8     1024.50\n",
       "9     1024.50\n",
       "10    1020.57\n",
       "11    1025.28\n",
       "12    1025.38\n",
       "13    1025.28\n",
       "14    1025.41\n",
       "15       0.00\n",
       "16    1025.41\n",
       "17    1020.57\n",
       "18    1025.28\n",
       "19    1024.50\n",
       "20    1025.33\n",
       "21    1025.33\n",
       "22    1025.41\n",
       "23    1024.78\n",
       "24    1025.33\n",
       "Name: BID, dtype: float64"
      ]
     },
     "execution_count": 10,
     "metadata": {},
     "output_type": "execute_result"
    }
   ],
   "source": [
    "df.BID[:25]"
   ]
  },
  {
   "cell_type": "code",
   "execution_count": 11,
   "id": "981d6bff-467d-4e42-8047-7f334972bb65",
   "metadata": {},
   "outputs": [
    {
     "data": {
      "text/plain": [
       "0     1025.84\n",
       "1     1029.82\n",
       "2        0.00\n",
       "3     1025.84\n",
       "4     1025.83\n",
       "5     1025.83\n",
       "6     1025.98\n",
       "7     1025.98\n",
       "8     1025.98\n",
       "9     1025.85\n",
       "10    1029.82\n",
       "11    1025.85\n",
       "12    1029.82\n",
       "13    1025.98\n",
       "14    1025.80\n",
       "15       0.00\n",
       "16       0.00\n",
       "17    1029.82\n",
       "18    1025.99\n",
       "19    1025.99\n",
       "20    1025.99\n",
       "21    1025.90\n",
       "22    1029.82\n",
       "23    1026.00\n",
       "24    1025.89\n",
       "Name: OFR, dtype: float64"
      ]
     },
     "execution_count": 11,
     "metadata": {},
     "output_type": "execute_result"
    }
   ],
   "source": [
    "df.OFR[:25]"
   ]
  },
  {
   "cell_type": "code",
   "execution_count": null,
   "id": "3e57d098-e93c-4862-815f-c646ce4ba4a5",
   "metadata": {},
   "outputs": [],
   "source": []
  }
 ],
 "metadata": {
  "kernelspec": {
   "display_name": "Python 3 (ipykernel)",
   "language": "python",
   "name": "python3"
  },
  "language_info": {
   "codemirror_mode": {
    "name": "ipython",
    "version": 3
   },
   "file_extension": ".py",
   "mimetype": "text/x-python",
   "name": "python",
   "nbconvert_exporter": "python",
   "pygments_lexer": "ipython3",
   "version": "3.8.5"
  }
 },
 "nbformat": 4,
 "nbformat_minor": 5
}
