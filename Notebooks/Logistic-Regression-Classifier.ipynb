{
 "cells": [
  {
   "cell_type": "markdown",
   "id": "f6ad5e46-fa6d-457c-91ee-75b99841b59b",
   "metadata": {
    "tags": []
   },
   "source": [
    "## __Logistic Regression Classifier__\n",
    "\n",
    "---\n",
    "\n",
    "<br>\n",
    "\n",
    "Author:      Tyler J. Brough <br>\n",
    "Last Update: March 1, 2022 <br>\n",
    "\n",
    "---\n",
    "\n",
    "<br>"
   ]
  },
  {
   "cell_type": "code",
   "execution_count": null,
   "id": "0b6cef33-5a6b-47a6-a1a3-84ff60b69839",
   "metadata": {},
   "outputs": [],
   "source": [
    "import numpy as np\n",
    "import pandas as pd"
   ]
  },
  {
   "cell_type": "code",
   "execution_count": null,
   "id": "ec08ca38-2d20-41ad-88fa-a3530fb7c341",
   "metadata": {},
   "outputs": [],
   "source": [
    "data = pd.read_csv('data/islr2_smarket.csv')"
   ]
  },
  {
   "cell_type": "code",
   "execution_count": null,
   "id": "30a57c91-1b7e-485d-9351-e84653fad881",
   "metadata": {},
   "outputs": [],
   "source": [
    "data.head()"
   ]
  },
  {
   "cell_type": "code",
   "execution_count": null,
   "id": "8d4107f7-f0a3-444d-afae-6c9f05c2c25e",
   "metadata": {},
   "outputs": [],
   "source": [
    "data['Label'] = data['Direction']\n",
    "data['Direction'].replace(['Up', 'Down'], [1.0, 0.0], inplace=True)"
   ]
  },
  {
   "cell_type": "code",
   "execution_count": null,
   "id": "e7236a8c-6950-4944-a7d0-218bbd0668f5",
   "metadata": {},
   "outputs": [],
   "source": [
    "data.head()"
   ]
  },
  {
   "cell_type": "code",
   "execution_count": null,
   "id": "6eb2e72b-7ec8-4330-9ddb-6d11030f5f12",
   "metadata": {},
   "outputs": [],
   "source": [
    "X_train = data.iloc[:1000, [1, 6]].to_numpy()\n",
    "y_train = data.iloc[:1000, [8]].to_numpy().ravel()"
   ]
  },
  {
   "cell_type": "markdown",
   "id": "266c6ec2-fef9-4d4e-8b89-1e771567aa81",
   "metadata": {},
   "source": [
    "### __Using Scikit-Learn__"
   ]
  },
  {
   "cell_type": "code",
   "execution_count": null,
   "id": "d16e9561-d320-4b23-8550-239e51305031",
   "metadata": {},
   "outputs": [],
   "source": [
    "## Scikit-learn \n",
    "from sklearn.linear_model import LogisticRegression\n",
    "from sklearn.metrics import accuracy_score, confusion_matrix"
   ]
  },
  {
   "cell_type": "code",
   "execution_count": null,
   "id": "bcf087a8-2e84-48a9-a5da-bc9568d43419",
   "metadata": {},
   "outputs": [],
   "source": [
    "model = LogisticRegression(solver='liblinear', random_state=0)"
   ]
  },
  {
   "cell_type": "code",
   "execution_count": null,
   "id": "1fd3d541-89c4-451d-bed4-fefcec45b1aa",
   "metadata": {},
   "outputs": [],
   "source": [
    "model.fit(X_train, y_train)"
   ]
  },
  {
   "cell_type": "code",
   "execution_count": null,
   "id": "46318593-b7fe-43e2-8a78-092a220437f8",
   "metadata": {},
   "outputs": [],
   "source": [
    "X_test = data.iloc[1000:, [1, 6]].to_numpy()\n",
    "y_test = data.iloc[1000:, [8]].to_numpy().ravel()"
   ]
  },
  {
   "cell_type": "code",
   "execution_count": null,
   "id": "376b2095-542d-481e-be79-869c317b704e",
   "metadata": {},
   "outputs": [],
   "source": [
    "model.score(X_test, y_test)"
   ]
  },
  {
   "cell_type": "code",
   "execution_count": null,
   "id": "0ab42e7c-77bb-4aef-bac2-746cd97dbca2",
   "metadata": {},
   "outputs": [],
   "source": [
    "y_pred = model.predict(X_test)\n",
    "accuracy_score(y_test, y_pred)"
   ]
  },
  {
   "cell_type": "code",
   "execution_count": null,
   "id": "256bbd46-2294-4742-ae98-ed41736d93e7",
   "metadata": {},
   "outputs": [],
   "source": [
    "confusion_matrix(y_test, y_pred)"
   ]
  },
  {
   "cell_type": "markdown",
   "id": "4eee3dea-b413-450a-8187-705a187c1532",
   "metadata": {},
   "source": [
    "### __Using Statsmodels (Logit)__"
   ]
  },
  {
   "cell_type": "code",
   "execution_count": null,
   "id": "ad528f03-cc49-43e3-b2ca-741dac6de340",
   "metadata": {},
   "outputs": [],
   "source": [
    "## Statsmodels\n",
    "import statsmodels.api as sm"
   ]
  },
  {
   "cell_type": "code",
   "execution_count": null,
   "id": "8c8bfd80-0c7f-40d7-aa90-08480cbb04d5",
   "metadata": {},
   "outputs": [],
   "source": [
    "X_train = sm.add_constant(X_train)\n",
    "X_test = sm.add_constant(X_test)"
   ]
  },
  {
   "cell_type": "code",
   "execution_count": null,
   "id": "917b6ca6-ca96-4b84-ad2f-0a1feb00de8f",
   "metadata": {},
   "outputs": [],
   "source": [
    "log_reg = sm.Logit(y_train, X_train).fit()"
   ]
  },
  {
   "cell_type": "code",
   "execution_count": null,
   "id": "2fb63e02-63ad-49f1-bb02-515262c1c4d6",
   "metadata": {},
   "outputs": [],
   "source": [
    "print(log_reg.summary())"
   ]
  },
  {
   "cell_type": "code",
   "execution_count": null,
   "id": "5f274ea3-6167-477a-bbd1-4d799104a23a",
   "metadata": {},
   "outputs": [],
   "source": [
    "y_pred_sm_log = np.round(log_reg.predict(X_test))"
   ]
  },
  {
   "cell_type": "code",
   "execution_count": null,
   "id": "e25bd31c-63fa-4d84-933e-45b76cf3c0c8",
   "metadata": {},
   "outputs": [],
   "source": [
    "accuracy_score(y_test, y_pred_sm_log)"
   ]
  },
  {
   "cell_type": "markdown",
   "id": "c52d1843-723a-46f2-8eea-6fa148ac885e",
   "metadata": {},
   "source": [
    "### __The Probit Model__"
   ]
  },
  {
   "cell_type": "code",
   "execution_count": null,
   "id": "3f207097-55d8-4400-a862-b8e26375d975",
   "metadata": {},
   "outputs": [],
   "source": [
    "prob_reg = sm.Probit(y_train, X_train).fit()"
   ]
  },
  {
   "cell_type": "code",
   "execution_count": null,
   "id": "66f862c4-8923-44f3-aa7f-4d6b4a99b6ad",
   "metadata": {},
   "outputs": [],
   "source": [
    "print(prob_reg.summary())"
   ]
  },
  {
   "cell_type": "code",
   "execution_count": null,
   "id": "6d2877a9-b152-40d7-9ea4-bc38841661e9",
   "metadata": {},
   "outputs": [],
   "source": [
    "y_pred_sm_prob = np.round(prob_reg.predict(X_test))"
   ]
  },
  {
   "cell_type": "code",
   "execution_count": null,
   "id": "1cae2d3b-2598-41a2-afd0-37ca7ddcbedb",
   "metadata": {},
   "outputs": [],
   "source": [
    "accuracy_score(y_test, y_pred_sm_prob)"
   ]
  },
  {
   "cell_type": "markdown",
   "id": "392082be-3476-4458-a4ec-d6a35bca6a2f",
   "metadata": {},
   "source": [
    "### __The Linear Probability Model__"
   ]
  },
  {
   "cell_type": "code",
   "execution_count": null,
   "id": "32cb8d43-e0ad-44a8-b342-8c1107ee2d8d",
   "metadata": {},
   "outputs": [],
   "source": [
    "lpm = sm.OLS(y_train, X_train).fit()"
   ]
  },
  {
   "cell_type": "code",
   "execution_count": null,
   "id": "bb749e74-5874-4caa-8633-6a135999fff7",
   "metadata": {},
   "outputs": [],
   "source": [
    "print(lpm.summary())"
   ]
  },
  {
   "cell_type": "code",
   "execution_count": null,
   "id": "49fe5538-9b53-43a0-9924-8e95e8f8b6e2",
   "metadata": {},
   "outputs": [],
   "source": [
    "y_probs_sm_lpm = lpm.predict(X_test)\n",
    "y_probs_sm_lpm[:10], y_probs_sm_lpm.min(), y_probs_sm_lpm.max()"
   ]
  },
  {
   "cell_type": "code",
   "execution_count": null,
   "id": "5f626692-1a4a-4a9b-812d-aa87bbe58c48",
   "metadata": {},
   "outputs": [],
   "source": [
    "y_pred_sm_lpm = np.round(y_probs_sm_lpm)"
   ]
  },
  {
   "cell_type": "code",
   "execution_count": null,
   "id": "c685646a-6d7f-47ab-9209-ff6713d05475",
   "metadata": {},
   "outputs": [],
   "source": [
    "accuracy_score(y_test, y_pred_sm_lpm)"
   ]
  }
 ],
 "metadata": {
  "kernelspec": {
   "display_name": "Python 3",
   "language": "python",
   "name": "python3"
  },
  "language_info": {
   "codemirror_mode": {
    "name": "ipython",
    "version": 3
   },
   "file_extension": ".py",
   "mimetype": "text/x-python",
   "name": "python",
   "nbconvert_exporter": "python",
   "pygments_lexer": "ipython3",
   "version": "3.8.5"
  }
 },
 "nbformat": 4,
 "nbformat_minor": 5
}
