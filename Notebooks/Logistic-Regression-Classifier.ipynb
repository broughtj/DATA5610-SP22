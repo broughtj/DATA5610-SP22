{
 "cells": [
  {
   "cell_type": "markdown",
   "id": "f6ad5e46-fa6d-457c-91ee-75b99841b59b",
   "metadata": {
    "tags": []
   },
   "source": [
    "## __Logistic Regression Classifier__\n",
    "\n",
    "---\n",
    "\n",
    "<br>\n",
    "\n",
    "Author:      Tyler J. Brough <br>\n",
    "Last Update: March 1, 2022 <br>\n",
    "\n",
    "---\n",
    "\n",
    "<br>"
   ]
  },
  {
   "cell_type": "code",
   "execution_count": 1,
   "id": "0b6cef33-5a6b-47a6-a1a3-84ff60b69839",
   "metadata": {},
   "outputs": [],
   "source": [
    "import numpy as np\n",
    "import pandas as pd"
   ]
  },
  {
   "cell_type": "code",
   "execution_count": 2,
   "id": "ec08ca38-2d20-41ad-88fa-a3530fb7c341",
   "metadata": {},
   "outputs": [],
   "source": [
    "data = pd.read_csv('data/islr2_smarket.csv')"
   ]
  },
  {
   "cell_type": "code",
   "execution_count": 3,
   "id": "30a57c91-1b7e-485d-9351-e84653fad881",
   "metadata": {},
   "outputs": [
    {
     "data": {
      "text/html": [
       "<div>\n",
       "<style scoped>\n",
       "    .dataframe tbody tr th:only-of-type {\n",
       "        vertical-align: middle;\n",
       "    }\n",
       "\n",
       "    .dataframe tbody tr th {\n",
       "        vertical-align: top;\n",
       "    }\n",
       "\n",
       "    .dataframe thead th {\n",
       "        text-align: right;\n",
       "    }\n",
       "</style>\n",
       "<table border=\"1\" class=\"dataframe\">\n",
       "  <thead>\n",
       "    <tr style=\"text-align: right;\">\n",
       "      <th></th>\n",
       "      <th>Year</th>\n",
       "      <th>Lag1</th>\n",
       "      <th>Lag2</th>\n",
       "      <th>Lag3</th>\n",
       "      <th>Lag4</th>\n",
       "      <th>Lag5</th>\n",
       "      <th>Volume</th>\n",
       "      <th>Today</th>\n",
       "      <th>Direction</th>\n",
       "    </tr>\n",
       "  </thead>\n",
       "  <tbody>\n",
       "    <tr>\n",
       "      <th>0</th>\n",
       "      <td>2001</td>\n",
       "      <td>0.381</td>\n",
       "      <td>-0.192</td>\n",
       "      <td>-2.624</td>\n",
       "      <td>-1.055</td>\n",
       "      <td>5.010</td>\n",
       "      <td>1.1913</td>\n",
       "      <td>0.959</td>\n",
       "      <td>Up</td>\n",
       "    </tr>\n",
       "    <tr>\n",
       "      <th>1</th>\n",
       "      <td>2001</td>\n",
       "      <td>0.959</td>\n",
       "      <td>0.381</td>\n",
       "      <td>-0.192</td>\n",
       "      <td>-2.624</td>\n",
       "      <td>-1.055</td>\n",
       "      <td>1.2965</td>\n",
       "      <td>1.032</td>\n",
       "      <td>Up</td>\n",
       "    </tr>\n",
       "    <tr>\n",
       "      <th>2</th>\n",
       "      <td>2001</td>\n",
       "      <td>1.032</td>\n",
       "      <td>0.959</td>\n",
       "      <td>0.381</td>\n",
       "      <td>-0.192</td>\n",
       "      <td>-2.624</td>\n",
       "      <td>1.4112</td>\n",
       "      <td>-0.623</td>\n",
       "      <td>Down</td>\n",
       "    </tr>\n",
       "    <tr>\n",
       "      <th>3</th>\n",
       "      <td>2001</td>\n",
       "      <td>-0.623</td>\n",
       "      <td>1.032</td>\n",
       "      <td>0.959</td>\n",
       "      <td>0.381</td>\n",
       "      <td>-0.192</td>\n",
       "      <td>1.2760</td>\n",
       "      <td>0.614</td>\n",
       "      <td>Up</td>\n",
       "    </tr>\n",
       "    <tr>\n",
       "      <th>4</th>\n",
       "      <td>2001</td>\n",
       "      <td>0.614</td>\n",
       "      <td>-0.623</td>\n",
       "      <td>1.032</td>\n",
       "      <td>0.959</td>\n",
       "      <td>0.381</td>\n",
       "      <td>1.2057</td>\n",
       "      <td>0.213</td>\n",
       "      <td>Up</td>\n",
       "    </tr>\n",
       "  </tbody>\n",
       "</table>\n",
       "</div>"
      ],
      "text/plain": [
       "   Year   Lag1   Lag2   Lag3   Lag4   Lag5  Volume  Today Direction\n",
       "0  2001  0.381 -0.192 -2.624 -1.055  5.010  1.1913  0.959        Up\n",
       "1  2001  0.959  0.381 -0.192 -2.624 -1.055  1.2965  1.032        Up\n",
       "2  2001  1.032  0.959  0.381 -0.192 -2.624  1.4112 -0.623      Down\n",
       "3  2001 -0.623  1.032  0.959  0.381 -0.192  1.2760  0.614        Up\n",
       "4  2001  0.614 -0.623  1.032  0.959  0.381  1.2057  0.213        Up"
      ]
     },
     "execution_count": 3,
     "metadata": {},
     "output_type": "execute_result"
    }
   ],
   "source": [
    "data.head()"
   ]
  },
  {
   "cell_type": "code",
   "execution_count": 4,
   "id": "8d4107f7-f0a3-444d-afae-6c9f05c2c25e",
   "metadata": {},
   "outputs": [],
   "source": [
    "data['Label'] = data['Direction']\n",
    "data['Direction'].replace(['Up', 'Down'], [1.0, 0.0], inplace=True)"
   ]
  },
  {
   "cell_type": "code",
   "execution_count": 5,
   "id": "e7236a8c-6950-4944-a7d0-218bbd0668f5",
   "metadata": {},
   "outputs": [
    {
     "data": {
      "text/html": [
       "<div>\n",
       "<style scoped>\n",
       "    .dataframe tbody tr th:only-of-type {\n",
       "        vertical-align: middle;\n",
       "    }\n",
       "\n",
       "    .dataframe tbody tr th {\n",
       "        vertical-align: top;\n",
       "    }\n",
       "\n",
       "    .dataframe thead th {\n",
       "        text-align: right;\n",
       "    }\n",
       "</style>\n",
       "<table border=\"1\" class=\"dataframe\">\n",
       "  <thead>\n",
       "    <tr style=\"text-align: right;\">\n",
       "      <th></th>\n",
       "      <th>Year</th>\n",
       "      <th>Lag1</th>\n",
       "      <th>Lag2</th>\n",
       "      <th>Lag3</th>\n",
       "      <th>Lag4</th>\n",
       "      <th>Lag5</th>\n",
       "      <th>Volume</th>\n",
       "      <th>Today</th>\n",
       "      <th>Direction</th>\n",
       "      <th>Label</th>\n",
       "    </tr>\n",
       "  </thead>\n",
       "  <tbody>\n",
       "    <tr>\n",
       "      <th>0</th>\n",
       "      <td>2001</td>\n",
       "      <td>0.381</td>\n",
       "      <td>-0.192</td>\n",
       "      <td>-2.624</td>\n",
       "      <td>-1.055</td>\n",
       "      <td>5.010</td>\n",
       "      <td>1.1913</td>\n",
       "      <td>0.959</td>\n",
       "      <td>1.0</td>\n",
       "      <td>Up</td>\n",
       "    </tr>\n",
       "    <tr>\n",
       "      <th>1</th>\n",
       "      <td>2001</td>\n",
       "      <td>0.959</td>\n",
       "      <td>0.381</td>\n",
       "      <td>-0.192</td>\n",
       "      <td>-2.624</td>\n",
       "      <td>-1.055</td>\n",
       "      <td>1.2965</td>\n",
       "      <td>1.032</td>\n",
       "      <td>1.0</td>\n",
       "      <td>Up</td>\n",
       "    </tr>\n",
       "    <tr>\n",
       "      <th>2</th>\n",
       "      <td>2001</td>\n",
       "      <td>1.032</td>\n",
       "      <td>0.959</td>\n",
       "      <td>0.381</td>\n",
       "      <td>-0.192</td>\n",
       "      <td>-2.624</td>\n",
       "      <td>1.4112</td>\n",
       "      <td>-0.623</td>\n",
       "      <td>0.0</td>\n",
       "      <td>Down</td>\n",
       "    </tr>\n",
       "    <tr>\n",
       "      <th>3</th>\n",
       "      <td>2001</td>\n",
       "      <td>-0.623</td>\n",
       "      <td>1.032</td>\n",
       "      <td>0.959</td>\n",
       "      <td>0.381</td>\n",
       "      <td>-0.192</td>\n",
       "      <td>1.2760</td>\n",
       "      <td>0.614</td>\n",
       "      <td>1.0</td>\n",
       "      <td>Up</td>\n",
       "    </tr>\n",
       "    <tr>\n",
       "      <th>4</th>\n",
       "      <td>2001</td>\n",
       "      <td>0.614</td>\n",
       "      <td>-0.623</td>\n",
       "      <td>1.032</td>\n",
       "      <td>0.959</td>\n",
       "      <td>0.381</td>\n",
       "      <td>1.2057</td>\n",
       "      <td>0.213</td>\n",
       "      <td>1.0</td>\n",
       "      <td>Up</td>\n",
       "    </tr>\n",
       "  </tbody>\n",
       "</table>\n",
       "</div>"
      ],
      "text/plain": [
       "   Year   Lag1   Lag2   Lag3   Lag4   Lag5  Volume  Today  Direction Label\n",
       "0  2001  0.381 -0.192 -2.624 -1.055  5.010  1.1913  0.959        1.0    Up\n",
       "1  2001  0.959  0.381 -0.192 -2.624 -1.055  1.2965  1.032        1.0    Up\n",
       "2  2001  1.032  0.959  0.381 -0.192 -2.624  1.4112 -0.623        0.0  Down\n",
       "3  2001 -0.623  1.032  0.959  0.381 -0.192  1.2760  0.614        1.0    Up\n",
       "4  2001  0.614 -0.623  1.032  0.959  0.381  1.2057  0.213        1.0    Up"
      ]
     },
     "execution_count": 5,
     "metadata": {},
     "output_type": "execute_result"
    }
   ],
   "source": [
    "data.head()"
   ]
  },
  {
   "cell_type": "code",
   "execution_count": 7,
   "id": "6eb2e72b-7ec8-4330-9ddb-6d11030f5f12",
   "metadata": {},
   "outputs": [],
   "source": [
    "X_train = data.iloc[:1000, [1, 6]].to_numpy()\n",
    "y_train = data.iloc[:1000, [8]].to_numpy().ravel()"
   ]
  },
  {
   "cell_type": "markdown",
   "id": "266c6ec2-fef9-4d4e-8b89-1e771567aa81",
   "metadata": {},
   "source": [
    "### __Using Scikit-Learn__"
   ]
  },
  {
   "cell_type": "code",
   "execution_count": 8,
   "id": "d16e9561-d320-4b23-8550-239e51305031",
   "metadata": {},
   "outputs": [],
   "source": [
    "## Scikit-learn \n",
    "from sklearn.linear_model import LogisticRegression\n",
    "from sklearn.metrics import accuracy_score, confusion_matrix"
   ]
  },
  {
   "cell_type": "code",
   "execution_count": 10,
   "id": "bcf087a8-2e84-48a9-a5da-bc9568d43419",
   "metadata": {},
   "outputs": [],
   "source": [
    "model = LogisticRegression(solver='liblinear', random_state=0)"
   ]
  },
  {
   "cell_type": "code",
   "execution_count": 11,
   "id": "1fd3d541-89c4-451d-bed4-fefcec45b1aa",
   "metadata": {},
   "outputs": [
    {
     "data": {
      "text/plain": [
       "LogisticRegression(random_state=0, solver='liblinear')"
      ]
     },
     "execution_count": 11,
     "metadata": {},
     "output_type": "execute_result"
    }
   ],
   "source": [
    "model.fit(X_train, y_train)"
   ]
  },
  {
   "cell_type": "code",
   "execution_count": 12,
   "id": "46318593-b7fe-43e2-8a78-092a220437f8",
   "metadata": {},
   "outputs": [],
   "source": [
    "X_test = data.iloc[1000:, [1, 6]].to_numpy()\n",
    "y_test = data.iloc[1000:, [8]].to_numpy().ravel()"
   ]
  },
  {
   "cell_type": "code",
   "execution_count": 13,
   "id": "376b2095-542d-481e-be79-869c317b704e",
   "metadata": {},
   "outputs": [
    {
     "data": {
      "text/plain": [
       "0.536"
      ]
     },
     "execution_count": 13,
     "metadata": {},
     "output_type": "execute_result"
    }
   ],
   "source": [
    "model.score(X_test, y_test)"
   ]
  },
  {
   "cell_type": "code",
   "execution_count": 14,
   "id": "0ab42e7c-77bb-4aef-bac2-746cd97dbca2",
   "metadata": {},
   "outputs": [
    {
     "data": {
      "text/plain": [
       "0.536"
      ]
     },
     "execution_count": 14,
     "metadata": {},
     "output_type": "execute_result"
    }
   ],
   "source": [
    "y_pred = model.predict(X_test)\n",
    "accuracy_score(y_test, y_pred)"
   ]
  },
  {
   "cell_type": "code",
   "execution_count": 15,
   "id": "256bbd46-2294-4742-ae98-ed41736d93e7",
   "metadata": {},
   "outputs": [
    {
     "data": {
      "text/plain": [
       "array([[77, 32],\n",
       "       [84, 57]])"
      ]
     },
     "execution_count": 15,
     "metadata": {},
     "output_type": "execute_result"
    }
   ],
   "source": [
    "confusion_matrix(y_test, y_pred)"
   ]
  },
  {
   "cell_type": "markdown",
   "id": "4eee3dea-b413-450a-8187-705a187c1532",
   "metadata": {},
   "source": [
    "### __Using Statsmodels (Logit)__"
   ]
  },
  {
   "cell_type": "code",
   "execution_count": 16,
   "id": "ad528f03-cc49-43e3-b2ca-741dac6de340",
   "metadata": {},
   "outputs": [],
   "source": [
    "## Statsmodels\n",
    "import statsmodels.api as sm"
   ]
  },
  {
   "cell_type": "code",
   "execution_count": 17,
   "id": "8c8bfd80-0c7f-40d7-aa90-08480cbb04d5",
   "metadata": {},
   "outputs": [],
   "source": [
    "X_train = sm.add_constant(X_train)\n",
    "X_test = sm.add_constant(X_test)"
   ]
  },
  {
   "cell_type": "code",
   "execution_count": 18,
   "id": "917b6ca6-ca96-4b84-ad2f-0a1feb00de8f",
   "metadata": {},
   "outputs": [
    {
     "name": "stdout",
     "output_type": "stream",
     "text": [
      "Optimization terminated successfully.\n",
      "         Current function value: 0.692435\n",
      "         Iterations 3\n"
     ]
    }
   ],
   "source": [
    "log_reg = sm.Logit(y_train, X_train).fit()"
   ]
  },
  {
   "cell_type": "code",
   "execution_count": 19,
   "id": "2fb63e02-63ad-49f1-bb02-515262c1c4d6",
   "metadata": {},
   "outputs": [
    {
     "name": "stdout",
     "output_type": "stream",
     "text": [
      "                           Logit Regression Results                           \n",
      "==============================================================================\n",
      "Dep. Variable:                      y   No. Observations:                 1000\n",
      "Model:                          Logit   Df Residuals:                      997\n",
      "Method:                           MLE   Df Model:                            2\n",
      "Date:                Wed, 02 Mar 2022   Pseudo R-squ.:               0.0008860\n",
      "Time:                        10:13:25   Log-Likelihood:                -692.44\n",
      "converged:                       True   LL-Null:                       -693.05\n",
      "Covariance Type:            nonrobust   LLR p-value:                    0.5412\n",
      "==============================================================================\n",
      "                 coef    std err          z      P>|z|      [0.025      0.975]\n",
      "------------------------------------------------------------------------------\n",
      "const          0.1575      0.330      0.478      0.633      -0.489       0.804\n",
      "x1            -0.0522      0.052     -1.009      0.313      -0.154       0.049\n",
      "x2            -0.0947      0.237     -0.400      0.689      -0.559       0.369\n",
      "==============================================================================\n"
     ]
    }
   ],
   "source": [
    "print(log_reg.summary())"
   ]
  },
  {
   "cell_type": "code",
   "execution_count": 20,
   "id": "75070281-8d2c-4962-826e-5e490d390cc7",
   "metadata": {},
   "outputs": [
    {
     "data": {
      "text/plain": [
       "array([0.51383657, 0.50293011, 0.49763997, 0.50624271, 0.49962146,\n",
       "       0.51207323, 0.4971928 , 0.51486163, 0.49992797, 0.4889516 ,\n",
       "       0.51625667, 0.50945245, 0.50881467, 0.5085855 , 0.49602271,\n",
       "       0.49432331, 0.50093692, 0.50404317, 0.48856393, 0.49055905,\n",
       "       0.49824468, 0.50617694, 0.48595017, 0.50889283, 0.50521394,\n",
       "       0.51477896, 0.49856104, 0.49334096, 0.50791081, 0.49890915,\n",
       "       0.50385418, 0.51228374, 0.5017288 , 0.51697052, 0.49651205,\n",
       "       0.49312049, 0.49115221, 0.50521551, 0.49154519, 0.50258316,\n",
       "       0.50068384, 0.48806935, 0.50071507, 0.50956671, 0.51228707,\n",
       "       0.49896479, 0.5149247 , 0.49800685, 0.51333865, 0.51076245,\n",
       "       0.49956627, 0.48447229, 0.50271789, 0.50260292, 0.48525507,\n",
       "       0.49984175, 0.49484029, 0.49663539, 0.47178188, 0.48783919,\n",
       "       0.49649309, 0.48656447, 0.48923029, 0.49384986, 0.48658221,\n",
       "       0.51090867, 0.50324192, 0.48525483, 0.50617045, 0.49664388,\n",
       "       0.49747515, 0.48390294, 0.48090641, 0.50415097, 0.45904906,\n",
       "       0.49972803, 0.48557569, 0.5044941 , 0.48327681, 0.50253596,\n",
       "       0.46792593, 0.48650092, 0.48916541, 0.46852977, 0.49543192,\n",
       "       0.50036827, 0.48706684, 0.50859223, 0.49045669, 0.505204  ,\n",
       "       0.49351792, 0.48224957, 0.48560824, 0.472662  , 0.49124356,\n",
       "       0.50270317, 0.49454218, 0.49933249, 0.50255245, 0.4918709 ,\n",
       "       0.50539772, 0.50370157, 0.484776  , 0.49417891, 0.50979278,\n",
       "       0.50110812, 0.49580576, 0.50156743, 0.48934471, 0.50303055,\n",
       "       0.49708518, 0.49580927, 0.49289577, 0.49258229, 0.47592478,\n",
       "       0.49969904, 0.50130056, 0.49591101, 0.50542709, 0.49204323,\n",
       "       0.49916756, 0.48548553, 0.49934125, 0.49867781, 0.49822823,\n",
       "       0.48509881, 0.50564844, 0.48994378, 0.47913948, 0.48750307,\n",
       "       0.49066219, 0.49530489, 0.48744305, 0.49721588, 0.50912121,\n",
       "       0.48226348, 0.48430799, 0.49755673, 0.49047574, 0.50361767,\n",
       "       0.49131486, 0.48733746, 0.4846726 , 0.50699785, 0.49747863,\n",
       "       0.48173801, 0.49104755, 0.50206821, 0.50362689, 0.50014582,\n",
       "       0.48565211, 0.49031753, 0.48419293, 0.50670883, 0.49867415,\n",
       "       0.51162679, 0.49438261, 0.49785927, 0.50171857, 0.49881562,\n",
       "       0.50404486, 0.5022191 , 0.49917045, 0.51070495, 0.49372604,\n",
       "       0.49815027, 0.47052812, 0.48522761, 0.50434284, 0.47717635,\n",
       "       0.48726724, 0.49801116, 0.48181387, 0.49444398, 0.49989428,\n",
       "       0.49660301, 0.48953354, 0.45403137, 0.49746284, 0.49470073,\n",
       "       0.490923  , 0.47720649, 0.49193369, 0.49112068, 0.4925478 ,\n",
       "       0.48816221, 0.4762889 , 0.48850348, 0.49194601, 0.49692735,\n",
       "       0.49847984, 0.47861118, 0.48420447, 0.49672026, 0.4876303 ,\n",
       "       0.48829331, 0.48462457, 0.47676671, 0.48684816, 0.50045222,\n",
       "       0.45594894, 0.49698023, 0.47888692, 0.46549632, 0.48770341,\n",
       "       0.48655632, 0.49631465, 0.46151592, 0.46924439, 0.48576109,\n",
       "       0.46370801, 0.46951861, 0.49060727, 0.48945075, 0.49733869,\n",
       "       0.48473204, 0.47205529, 0.49340727, 0.49540254, 0.4885223 ,\n",
       "       0.48679994, 0.47270611, 0.47555529, 0.48236568, 0.47849633,\n",
       "       0.48783381, 0.51947732, 0.50270987, 0.48563307, 0.49143185,\n",
       "       0.46166406, 0.48862131, 0.48737388, 0.48772126, 0.49632297,\n",
       "       0.48938069, 0.49080394, 0.49384011, 0.47555408, 0.48310611,\n",
       "       0.48957416, 0.48189876, 0.49468214, 0.49240325, 0.48718376,\n",
       "       0.48915017, 0.50836634, 0.51534645, 0.50399796, 0.51052178])"
      ]
     },
     "execution_count": 20,
     "metadata": {},
     "output_type": "execute_result"
    }
   ],
   "source": [
    "y_probs_sm_log = log_reg.predict(X_test)\n",
    "y_probs_sm_log"
   ]
  },
  {
   "cell_type": "code",
   "execution_count": 21,
   "id": "5f274ea3-6167-477a-bbd1-4d799104a23a",
   "metadata": {},
   "outputs": [
    {
     "data": {
      "text/plain": [
       "array([1., 1., 0., 1., 0., 1., 0., 1., 0., 0., 1., 1., 1., 1., 0., 0., 1.,\n",
       "       1., 0., 0., 0., 1., 0., 1., 1., 1., 0., 0., 1., 0., 1., 1., 1., 1.,\n",
       "       0., 0., 0., 1., 0., 1., 1., 0., 1., 1., 1., 0., 1., 0., 1., 1., 0.,\n",
       "       0., 1., 1., 0., 0., 0., 0., 0., 0., 0., 0., 0., 0., 0., 1., 1., 0.,\n",
       "       1., 0., 0., 0., 0., 1., 0., 0., 0., 1., 0., 1., 0., 0., 0., 0., 0.,\n",
       "       1., 0., 1., 0., 1., 0., 0., 0., 0., 0., 1., 0., 0., 1., 0., 1., 1.,\n",
       "       0., 0., 1., 1., 0., 1., 0., 1., 0., 0., 0., 0., 0., 0., 1., 0., 1.,\n",
       "       0., 0., 0., 0., 0., 0., 0., 1., 0., 0., 0., 0., 0., 0., 0., 1., 0.,\n",
       "       0., 0., 0., 1., 0., 0., 0., 1., 0., 0., 0., 1., 1., 1., 0., 0., 0.,\n",
       "       1., 0., 1., 0., 0., 1., 0., 1., 1., 0., 1., 0., 0., 0., 0., 1., 0.,\n",
       "       0., 0., 0., 0., 0., 0., 0., 0., 0., 0., 0., 0., 0., 0., 0., 0., 0.,\n",
       "       0., 0., 0., 0., 0., 0., 0., 0., 0., 0., 0., 0., 1., 0., 0., 0., 0.,\n",
       "       0., 0., 0., 0., 0., 0., 0., 0., 0., 0., 0., 0., 0., 0., 0., 0., 0.,\n",
       "       0., 0., 0., 0., 0., 1., 1., 0., 0., 0., 0., 0., 0., 0., 0., 0., 0.,\n",
       "       0., 0., 0., 0., 0., 0., 0., 0., 1., 1., 1., 1.])"
      ]
     },
     "execution_count": 21,
     "metadata": {},
     "output_type": "execute_result"
    }
   ],
   "source": [
    "y_pred_sm_log = np.round(y_probs_sm_log)\n",
    "y_pred_sm_log"
   ]
  },
  {
   "cell_type": "code",
   "execution_count": 22,
   "id": "e25bd31c-63fa-4d84-933e-45b76cf3c0c8",
   "metadata": {},
   "outputs": [
    {
     "data": {
      "text/plain": [
       "0.528"
      ]
     },
     "execution_count": 22,
     "metadata": {},
     "output_type": "execute_result"
    }
   ],
   "source": [
    "accuracy_score(y_test, y_pred_sm_log)"
   ]
  },
  {
   "cell_type": "markdown",
   "id": "c52d1843-723a-46f2-8eea-6fa148ac885e",
   "metadata": {},
   "source": [
    "### __The Probit Model__"
   ]
  },
  {
   "cell_type": "code",
   "execution_count": 23,
   "id": "3f207097-55d8-4400-a862-b8e26375d975",
   "metadata": {},
   "outputs": [
    {
     "name": "stdout",
     "output_type": "stream",
     "text": [
      "Optimization terminated successfully.\n",
      "         Current function value: 0.692435\n",
      "         Iterations 3\n"
     ]
    }
   ],
   "source": [
    "prob_reg = sm.Probit(y_train, X_train).fit()"
   ]
  },
  {
   "cell_type": "code",
   "execution_count": 24,
   "id": "66f862c4-8923-44f3-aa7f-4d6b4a99b6ad",
   "metadata": {},
   "outputs": [
    {
     "name": "stdout",
     "output_type": "stream",
     "text": [
      "                          Probit Regression Results                           \n",
      "==============================================================================\n",
      "Dep. Variable:                      y   No. Observations:                 1000\n",
      "Model:                         Probit   Df Residuals:                      997\n",
      "Method:                           MLE   Df Model:                            2\n",
      "Date:                Wed, 02 Mar 2022   Pseudo R-squ.:               0.0008860\n",
      "Time:                        10:16:45   Log-Likelihood:                -692.44\n",
      "converged:                       True   LL-Null:                       -693.05\n",
      "Covariance Type:            nonrobust   LLR p-value:                    0.5412\n",
      "==============================================================================\n",
      "                 coef    std err          z      P>|z|      [0.025      0.975]\n",
      "------------------------------------------------------------------------------\n",
      "const          0.0989      0.207      0.478      0.632      -0.306       0.504\n",
      "x1            -0.0327      0.032     -1.010      0.313      -0.096       0.031\n",
      "x2            -0.0595      0.148     -0.401      0.689      -0.350       0.231\n",
      "==============================================================================\n"
     ]
    }
   ],
   "source": [
    "print(prob_reg.summary())"
   ]
  },
  {
   "cell_type": "code",
   "execution_count": 25,
   "id": "6d2877a9-b152-40d7-9ea4-bc38841661e9",
   "metadata": {},
   "outputs": [],
   "source": [
    "y_pred_sm_prob = np.round(prob_reg.predict(X_test))"
   ]
  },
  {
   "cell_type": "code",
   "execution_count": 26,
   "id": "1cae2d3b-2598-41a2-afd0-37ca7ddcbedb",
   "metadata": {},
   "outputs": [
    {
     "data": {
      "text/plain": [
       "0.528"
      ]
     },
     "execution_count": 26,
     "metadata": {},
     "output_type": "execute_result"
    }
   ],
   "source": [
    "accuracy_score(y_test, y_pred_sm_prob)"
   ]
  },
  {
   "cell_type": "markdown",
   "id": "392082be-3476-4458-a4ec-d6a35bca6a2f",
   "metadata": {},
   "source": [
    "### __The Linear Probability Model__"
   ]
  },
  {
   "cell_type": "code",
   "execution_count": 27,
   "id": "32cb8d43-e0ad-44a8-b342-8c1107ee2d8d",
   "metadata": {},
   "outputs": [],
   "source": [
    "lpm = sm.OLS(y_train, X_train).fit()"
   ]
  },
  {
   "cell_type": "code",
   "execution_count": 28,
   "id": "bb749e74-5874-4caa-8633-6a135999fff7",
   "metadata": {},
   "outputs": [
    {
     "name": "stdout",
     "output_type": "stream",
     "text": [
      "                            OLS Regression Results                            \n",
      "==============================================================================\n",
      "Dep. Variable:                      y   R-squared:                       0.001\n",
      "Model:                            OLS   Adj. R-squared:                 -0.001\n",
      "Method:                 Least Squares   F-statistic:                    0.6124\n",
      "Date:                Wed, 02 Mar 2022   Prob (F-statistic):              0.542\n",
      "Time:                        10:16:59   Log-Likelihood:                -725.08\n",
      "No. Observations:                1000   AIC:                             1456.\n",
      "Df Residuals:                     997   BIC:                             1471.\n",
      "Df Model:                           2                                         \n",
      "Covariance Type:            nonrobust                                         \n",
      "==============================================================================\n",
      "                 coef    std err          t      P>|t|      [0.025      0.975]\n",
      "------------------------------------------------------------------------------\n",
      "const          0.5393      0.082      6.544      0.000       0.378       0.701\n",
      "x1            -0.0130      0.013     -1.009      0.313      -0.038       0.012\n",
      "x2            -0.0236      0.059     -0.399      0.690      -0.140       0.092\n",
      "==============================================================================\n",
      "Omnibus:                     3776.321   Durbin-Watson:                   2.094\n",
      "Prob(Omnibus):                  0.000   Jarque-Bera (JB):              165.851\n",
      "Skew:                          -0.028   Prob(JB):                     9.68e-37\n",
      "Kurtosis:                       1.006   Cond. No.                         10.9\n",
      "==============================================================================\n",
      "\n",
      "Notes:\n",
      "[1] Standard Errors assume that the covariance matrix of the errors is correctly specified.\n"
     ]
    }
   ],
   "source": [
    "print(lpm.summary())"
   ]
  },
  {
   "cell_type": "code",
   "execution_count": 29,
   "id": "49fe5538-9b53-43a0-9924-8e95e8f8b6e2",
   "metadata": {},
   "outputs": [
    {
     "data": {
      "text/plain": [
       "(array([0.51382373, 0.50293711, 0.49765705, 0.50624122, 0.49963382,\n",
       "        0.51206142, 0.49721078, 0.51484605, 0.49993865, 0.48898559]),\n",
       " 0.4540219517688243,\n",
       " 0.519452154020871)"
      ]
     },
     "execution_count": 29,
     "metadata": {},
     "output_type": "execute_result"
    }
   ],
   "source": [
    "y_probs_sm_lpm = lpm.predict(X_test)\n",
    "y_probs_sm_lpm[:10], y_probs_sm_lpm.min(), y_probs_sm_lpm.max()"
   ]
  },
  {
   "cell_type": "code",
   "execution_count": 30,
   "id": "5f626692-1a4a-4a9b-812d-aa87bbe58c48",
   "metadata": {},
   "outputs": [],
   "source": [
    "y_pred_sm_lpm = np.round(y_probs_sm_lpm)"
   ]
  },
  {
   "cell_type": "code",
   "execution_count": 31,
   "id": "c685646a-6d7f-47ab-9209-ff6713d05475",
   "metadata": {},
   "outputs": [
    {
     "data": {
      "text/plain": [
       "0.528"
      ]
     },
     "execution_count": 31,
     "metadata": {},
     "output_type": "execute_result"
    }
   ],
   "source": [
    "accuracy_score(y_test, y_pred_sm_lpm)"
   ]
  },
  {
   "cell_type": "code",
   "execution_count": null,
   "id": "6a0780f4-3a6f-4ba6-a6de-a2d2e3d884ae",
   "metadata": {},
   "outputs": [],
   "source": []
  }
 ],
 "metadata": {
  "kernelspec": {
   "display_name": "Python 3",
   "language": "python",
   "name": "python3"
  },
  "language_info": {
   "codemirror_mode": {
    "name": "ipython",
    "version": 3
   },
   "file_extension": ".py",
   "mimetype": "text/x-python",
   "name": "python",
   "nbconvert_exporter": "python",
   "pygments_lexer": "ipython3",
   "version": "3.8.5"
  }
 },
 "nbformat": 4,
 "nbformat_minor": 5
}
