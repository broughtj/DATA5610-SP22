{
 "cells": [
  {
   "cell_type": "code",
   "execution_count": 3,
   "id": "3d36b30d-2624-4b7d-a8f3-cfbb2861db60",
   "metadata": {},
   "outputs": [],
   "source": [
    "import numpy as np\n",
    "import pandas as pd\n",
    "import scipy.stats as stats\n",
    "import matplotlib.pyplot as plt"
   ]
  },
  {
   "cell_type": "code",
   "execution_count": 4,
   "id": "2d3f496e-8a24-4251-b529-e44ccf5e364c",
   "metadata": {},
   "outputs": [],
   "source": [
    "%matplotlib inline"
   ]
  },
  {
   "cell_type": "code",
   "execution_count": 5,
   "id": "c6ecc13f-3de8-4da9-bfe1-901342344652",
   "metadata": {},
   "outputs": [
    {
     "data": {
      "text/plain": [
       "\u001b[0;31mDocstring:\u001b[0m\n",
       "gamma(shape, scale=1.0, size=None)\n",
       "\n",
       "Draw samples from a Gamma distribution.\n",
       "\n",
       "Samples are drawn from a Gamma distribution with specified parameters,\n",
       "`shape` (sometimes designated \"k\") and `scale` (sometimes designated\n",
       "\"theta\"), where both parameters are > 0.\n",
       "\n",
       ".. note::\n",
       "    New code should use the ``gamma`` method of a ``default_rng()``\n",
       "    instance instead; please see the :ref:`random-quick-start`.\n",
       "\n",
       "Parameters\n",
       "----------\n",
       "shape : float or array_like of floats\n",
       "    The shape of the gamma distribution. Must be non-negative.\n",
       "scale : float or array_like of floats, optional\n",
       "    The scale of the gamma distribution. Must be non-negative.\n",
       "    Default is equal to 1.\n",
       "size : int or tuple of ints, optional\n",
       "    Output shape.  If the given shape is, e.g., ``(m, n, k)``, then\n",
       "    ``m * n * k`` samples are drawn.  If size is ``None`` (default),\n",
       "    a single value is returned if ``shape`` and ``scale`` are both scalars.\n",
       "    Otherwise, ``np.broadcast(shape, scale).size`` samples are drawn.\n",
       "\n",
       "Returns\n",
       "-------\n",
       "out : ndarray or scalar\n",
       "    Drawn samples from the parameterized gamma distribution.\n",
       "\n",
       "See Also\n",
       "--------\n",
       "scipy.stats.gamma : probability density function, distribution or\n",
       "    cumulative density function, etc.\n",
       "Generator.gamma: which should be used for new code.\n",
       "\n",
       "Notes\n",
       "-----\n",
       "The probability density for the Gamma distribution is\n",
       "\n",
       ".. math:: p(x) = x^{k-1}\\frac{e^{-x/\\theta}}{\\theta^k\\Gamma(k)},\n",
       "\n",
       "where :math:`k` is the shape and :math:`\\theta` the scale,\n",
       "and :math:`\\Gamma` is the Gamma function.\n",
       "\n",
       "The Gamma distribution is often used to model the times to failure of\n",
       "electronic components, and arises naturally in processes for which the\n",
       "waiting times between Poisson distributed events are relevant.\n",
       "\n",
       "References\n",
       "----------\n",
       ".. [1] Weisstein, Eric W. \"Gamma Distribution.\" From MathWorld--A\n",
       "       Wolfram Web Resource.\n",
       "       http://mathworld.wolfram.com/GammaDistribution.html\n",
       ".. [2] Wikipedia, \"Gamma distribution\",\n",
       "       https://en.wikipedia.org/wiki/Gamma_distribution\n",
       "\n",
       "Examples\n",
       "--------\n",
       "Draw samples from the distribution:\n",
       "\n",
       ">>> shape, scale = 2., 2.  # mean=4, std=2*sqrt(2)\n",
       ">>> s = np.random.gamma(shape, scale, 1000)\n",
       "\n",
       "Display the histogram of the samples, along with\n",
       "the probability density function:\n",
       "\n",
       ">>> import matplotlib.pyplot as plt\n",
       ">>> import scipy.special as sps  # doctest: +SKIP\n",
       ">>> count, bins, ignored = plt.hist(s, 50, density=True)\n",
       ">>> y = bins**(shape-1)*(np.exp(-bins/scale) /  # doctest: +SKIP\n",
       "...                      (sps.gamma(shape)*scale**shape))\n",
       ">>> plt.plot(bins, y, linewidth=2, color='r')  # doctest: +SKIP\n",
       ">>> plt.show()\n",
       "\u001b[0;31mType:\u001b[0m      builtin_function_or_method\n"
      ]
     },
     "metadata": {},
     "output_type": "display_data"
    }
   ],
   "source": [
    "np.random.gamma?"
   ]
  },
  {
   "cell_type": "markdown",
   "id": "9a8ecb2e-69e4-4bba-b9d3-f05d15f733ec",
   "metadata": {},
   "source": [
    "$$\n",
    "p(x) = x^{k-1}\\frac{e^{-x/\\theta}}{\\theta^k\\Gamma(k)}\n",
    "$$"
   ]
  },
  {
   "cell_type": "code",
   "execution_count": null,
   "id": "a6436d48-4ab3-4275-ab82-acb34ffb4501",
   "metadata": {},
   "outputs": [],
   "source": []
  }
 ],
 "metadata": {
  "kernelspec": {
   "display_name": "Python 3 (ipykernel)",
   "language": "python",
   "name": "python3"
  },
  "language_info": {
   "codemirror_mode": {
    "name": "ipython",
    "version": 3
   },
   "file_extension": ".py",
   "mimetype": "text/x-python",
   "name": "python",
   "nbconvert_exporter": "python",
   "pygments_lexer": "ipython3",
   "version": "3.8.5"
  }
 },
 "nbformat": 4,
 "nbformat_minor": 5
}
