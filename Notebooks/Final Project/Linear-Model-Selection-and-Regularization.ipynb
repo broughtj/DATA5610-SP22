{
 "cells": [
  {
   "cell_type": "markdown",
   "id": "60862caa-ce65-4da0-a1d8-0cd5c58722f4",
   "metadata": {},
   "source": [
    "# __Linear Model Selection and Regularization__\n",
    "\n",
    "---\n",
    "\n",
    "<br>\n",
    "\n",
    "__DATA 5610__ <br>\n",
    "Author:      Tyler J. Brough <br>\n",
    "Last Update: April 20, 2022 <br>\n",
    "\n",
    "---"
   ]
  },
  {
   "cell_type": "markdown",
   "id": "d9a9fcea-8bcc-40e0-b289-656015f6069c",
   "metadata": {},
   "source": [
    "<br>\n",
    "\n",
    "---\n",
    "\n",
    "__Notice__\n",
    "\n",
    "* These notes are based on ___Chapter 6: Linear Model Selection and Regularization___ by James et al\n",
    "\n",
    "* See also:\n",
    "    - Chapter 6 of Elliott & Timmermann ___Economic Forecasting___\n",
    "---"
   ]
  },
  {
   "cell_type": "markdown",
   "id": "cf11ee0c-7f92-44a4-81a0-5de7e37e9768",
   "metadata": {},
   "source": [
    "## __Stepwise Selection__"
   ]
  },
  {
   "cell_type": "markdown",
   "id": "c6f9260d-6c64-4e4f-8568-37d0da337a26",
   "metadata": {},
   "source": [
    "### ___Algorithm (Forward Stepwise Selection)___\n",
    "\n",
    "---\n",
    "\n",
    "1. Let $\\mathcal{M}_{0}$ denote the _null_ model, which contains no predictors.\n",
    "\n",
    "2. For $k = 1, \\ldots, p - 1$:\n",
    "    - (a) Consider all $p - k$ models that augment the predictors in $\\mathcal{M}_{k}$ with one additional predictor.\n",
    "    - (b) Choose the _best_ among these $p - k$ models, and call it $\\mathcal{M}_{k+1}$. Here _best_ is defined as having smallest RSS or highest $R^{2}$ (other some other metric)\n",
    "    \n",
    "\n",
    "3. Select a single best model from among $\\mathcal{M}_{0}, \\ldots, \\mathcal{M}_{p}$ using cross-validated prediction error, $C_{p}$ (AIC), (BIC), or adjusted $R^{2}$.\n",
    "\n",
    "---\n",
    "\n",
    "<br>"
   ]
  },
  {
   "cell_type": "markdown",
   "id": "9dae6153-047b-4238-aef1-307de946fd0d",
   "metadata": {},
   "source": [
    "### ___Algorithm (Backward Stepwise Selection)___\n",
    "\n",
    "---\n",
    "\n",
    "1. Let $\\mathcal{M}_{p}$ denote the _full_ model, which contains all $p$ predictors. \n",
    "\n",
    "2. For $k = p, p-1, \\ldots, 1$:\n",
    "    - (a) Consider all $k$ models that contain all but one of hte predictors in $\\mathcal{M}_{k}$, for a total of $k-1$ predictors.\n",
    "    - (b) Choose the _best_ among these $k$ models, and call it $\\mathcal{M}_{k-1}$. Here _best_ is defined as having smallest RSS or highest $R^{2}$ (or some other metric)\n",
    "    \n",
    "    \n",
    "3. Select a single best model from among $\\mathcal{M}_{0}, \\ldots, \\mathcal{M}_{p}$ using cross-validated prediction error, $C_{p}$ (AIC), (BIC), or adjusted $R^{2}$.\n",
    "\n",
    "---\n",
    "\n",
    "<br>"
   ]
  },
  {
   "cell_type": "code",
   "execution_count": null,
   "id": "2d0d71c4-6a78-4d5d-afb6-48abd333594f",
   "metadata": {},
   "outputs": [],
   "source": []
  },
  {
   "cell_type": "markdown",
   "id": "a7ce0548-aa12-4051-b2f9-31adab07ac71",
   "metadata": {},
   "source": [
    "## __Information Criteria__"
   ]
  },
  {
   "cell_type": "code",
   "execution_count": null,
   "id": "59bd63fe-c9b1-4949-80cb-b41848aa97b0",
   "metadata": {},
   "outputs": [],
   "source": []
  },
  {
   "cell_type": "code",
   "execution_count": null,
   "id": "fbb13a00-e8b4-4abd-b062-22bf5ce44214",
   "metadata": {},
   "outputs": [],
   "source": []
  },
  {
   "cell_type": "code",
   "execution_count": null,
   "id": "a3fe4e0e-45a1-412f-820e-7e0bfabdf2a0",
   "metadata": {},
   "outputs": [],
   "source": []
  },
  {
   "cell_type": "markdown",
   "id": "37bbb7ae-a740-44c7-9d61-8abb458eef2c",
   "metadata": {},
   "source": [
    "## __The Lasso__"
   ]
  },
  {
   "cell_type": "code",
   "execution_count": null,
   "id": "6730ada2-a2b5-4ec1-99eb-a2c06a415dc6",
   "metadata": {},
   "outputs": [],
   "source": []
  },
  {
   "cell_type": "code",
   "execution_count": null,
   "id": "a3179183-6ed8-4260-8bd3-58b3a0b57949",
   "metadata": {},
   "outputs": [],
   "source": []
  },
  {
   "cell_type": "code",
   "execution_count": null,
   "id": "3c66c59a-a021-49f3-a347-306ffc6389e1",
   "metadata": {},
   "outputs": [],
   "source": []
  }
 ],
 "metadata": {
  "kernelspec": {
   "display_name": "Python 3 (ipykernel)",
   "language": "python",
   "name": "python3"
  },
  "language_info": {
   "codemirror_mode": {
    "name": "ipython",
    "version": 3
   },
   "file_extension": ".py",
   "mimetype": "text/x-python",
   "name": "python",
   "nbconvert_exporter": "python",
   "pygments_lexer": "ipython3",
   "version": "3.8.5"
  }
 },
 "nbformat": 4,
 "nbformat_minor": 5
}
