{
 "cells": [
  {
   "cell_type": "markdown",
   "id": "a45bbe2f-00c9-4c86-b188-abb6992b28cd",
   "metadata": {},
   "source": [
    "## __Maximum Likelihood Estimation__\n",
    "\n",
    "---\n",
    "\n",
    "<br>\n",
    "\n",
    "Author:      Tyler J. Brough <br>\n",
    "Last Update: February 16, 2022 <br>\n",
    "\n",
    "<br>\n",
    "\n",
    "This notebook is based on the following sources: \n",
    "\n",
    "* _Chapter 9: Point Estimation_ of _Introduction to Probability and Mathematical Statistics_ \n",
    "\n",
    "* _Chapter 2: General Matters_ of _Machine Learning: An Applied Mathematics Introduction_\n",
    "\n",
    "---\n",
    "\n",
    "<br>"
   ]
  },
  {
   "cell_type": "code",
   "execution_count": 1,
   "id": "0193a901-f926-4800-b5ba-25e54c924ee4",
   "metadata": {},
   "outputs": [],
   "source": [
    "import numpy as np\n",
    "import matplotlib.pyplot as plt"
   ]
  },
  {
   "cell_type": "code",
   "execution_count": 2,
   "id": "cef374d2-9014-4faf-9853-58d9274948b7",
   "metadata": {},
   "outputs": [],
   "source": [
    "plt.rcParams['figure.figsize'] = [10, 8]"
   ]
  },
  {
   "cell_type": "markdown",
   "id": "138d52c6-d318-4704-8977-e2b0b3c70740",
   "metadata": {},
   "source": [
    "<br>\n",
    "\n",
    "### __Likelihood Function__\n",
    "\n",
    "---\n",
    "\n",
    "The joint function of $n$ random variables $X_{1}, \\ldots, X_{n}$ evaluated at \n",
    "$x_{1}, \\ldots, x_{n}$ the likelihood function is a function of $\\theta$ and often is denoted by $L(\\theta)$\n",
    "\n",
    "<br>\n",
    "\n",
    "If $X_{1}, \\ldots, X_{n}$ represents a random sample from $f(x; \\theta)$, then\n",
    "\n",
    "<br>\n",
    "\n",
    "$$\n",
    "L(\\theta) = f(x_{1}; \\theta) \\cdots f(x_{n}; \\theta)\n",
    "$$\n",
    "\n",
    "---\n",
    "\n",
    "<br>\n",
    "<br>"
   ]
  },
  {
   "cell_type": "markdown",
   "id": "b4343e67-48ee-41d9-8f1a-2ef33ee523c9",
   "metadata": {},
   "source": [
    "### __Maximum Likelihood Estimator__\n",
    "\n",
    "---\n",
    "\n",
    "Let $L(\\theta) = f(x_{1}, \\ldots, x_{n}; \\theta), \\theta \\in \\Omega$, be the joint pdf of $X_{1}, \\ldots, X_{n}$. For a given set of observations, $(x_{1}, \n",
    "\\ldots, x_{n})$, a value $\\hat{\\theta}$ in $\\Omega$ at which $L(\\theta)$ is a maximum is called a __maximum likelihood estimator__ (MLE) of $\\theta$. That is,\n",
    "$\\hat{\\theta}$ is a value of $\\theta$ that satisfies\n",
    "\n",
    "<br>\n",
    "\n",
    "$$\n",
    "f(x_{1}, \\ldots, x_{n}; \\hat{\\theta}) = \\max_{\\theta \\in \\Omega} f(x_{1}, \\ldots, x_{n}; \\theta)\n",
    "$$\n",
    "\n",
    "---\n",
    "\n",
    "<br>\n",
    "<br>"
   ]
  },
  {
   "cell_type": "markdown",
   "id": "d882abd8-6c39-4da6-ba7f-edd8ff8beada",
   "metadata": {},
   "source": [
    "<br>\n",
    "\n",
    "Notice that if each set of observations $(x_{1}, \\ldots, x_{n})$ corresponds to a unique value of $\\hat{\\theta}$, then this procedure defines a function,\n",
    "$\\hat{\\theta} = \\mathcal{t}(x_{1}, \\ldots, x_{n})$. This same function, when applied to random sample, $\\hat{\\theta} = \\mathcal{t}(X_{1}, \\ldots, X_{n})$,\n",
    "is called the __maximum likelihood estimator__, also denoted MLE. Usually, the name notation, $\\hat{\\theta}$, is used for both the ML estimate and the ML estimator. \n",
    "\n",
    "<br>\n",
    "\n",
    "In most cases, $L(\\theta)$ represents the joint pdf of a random sample, although the maximum likelihood principle also applies to other cases such as sets of order statistics.\n",
    "\n",
    "<br>\n",
    "\n",
    "If $\\Omega$ is an open interval, and if $L(\\theta)$ is differentiable and assumes a maximum on $\\Omega$, then the MLE will be a solution of the equation (maximum likelihood equation)\n",
    "\n",
    "<br>\n",
    "\n",
    "$$\n",
    "{\\large \\frac{d}{d\\theta} L(\\theta) = 0}\n",
    "$$\n",
    "\n",
    "<br>\n",
    "\n",
    "If one or more solutions to the above equation exist, then it should be verified which, if any, maximize $L(\\theta)$. Note that any value of $\\theta$ \n",
    "that maximizes $L(\\theta$) also will maximize the log-likelihood, $\\ln{[L(\\theta)]}$, so for computational convenience the alternate form of the maximum\n",
    "likelihood equation,\n",
    "\n",
    "<br>\n",
    "\n",
    "$$\n",
    "{\\large \\frac{d}{d\\theta} \\ln{[L(\\theta)]} = 0}\n",
    "$$\n",
    "\n",
    "<br>\n",
    "\n",
    "often will be used.\n",
    "\n",
    "<br>"
   ]
  },
  {
   "cell_type": "markdown",
   "id": "e2e53258-cbda-4f04-a764-619f503bed3b",
   "metadata": {},
   "source": [
    "### __Example: Coin Tossing__\n",
    "\n",
    "<br>\n",
    "\n",
    "Suppose you toss a coin $n$ times and get $h$ heads. What is the probability, $p$, of tossing a head next time?\n",
    "\n",
    "<br>\n",
    "\n",
    "The probability of getting $h$ heads from $n$ tosses is, assuming that the tosses are independent,\n",
    "\n",
    "<br>\n",
    "\n",
    "$$\n",
    "{\\large \\frac{n!}{h!(n-h)!} p^{h} (1-p)^{n-h} = {n \\choose h} p^{h} (1-p)^{n-h}}\n",
    "$$\n",
    "\n",
    "<br>\n",
    "\n",
    "Applying MLE is the same as maximizing this expression with respect to $p$. This likelihood function (without the coefficient in the front that is independent of $p$) is shown below for $n = 100$ and $h = 55$. There is a very obvious maximum.\n",
    "\n",
    "<br>"
   ]
  },
  {
   "cell_type": "code",
   "execution_count": 3,
   "id": "3b81777d-9ed0-46e6-8750-a162c6aa4a1d",
   "metadata": {},
   "outputs": [],
   "source": [
    "def likelihood(n, h, p):\n",
    "    return (p**h) * ((1-p)**(n-h))"
   ]
  },
  {
   "cell_type": "code",
   "execution_count": 4,
   "id": "134016ec-b104-49d0-8e41-968e0ddf640c",
   "metadata": {},
   "outputs": [],
   "source": [
    "probs = np.linspace(start=0.01, stop=1.0, num=10_000)\n",
    "l = [likelihood(100, 55, p) for p in probs]"
   ]
  },
  {
   "cell_type": "code",
   "execution_count": 5,
   "id": "32ab92be-a783-4e49-ba57-cbb36d7e79f2",
   "metadata": {},
   "outputs": [
    {
     "data": {
      "image/png": "[encoded data removed]",
      "text/plain": [
       "<Figure size 720x576 with 1 Axes>"
      ]
     },
     "metadata": {
      "needs_background": "light"
     },
     "output_type": "display_data"
    }
   ],
   "source": [
    "plt.plot(probs, l, color=\"orange\", lw=2.5)\n",
    "plt.title(\"Likelihood (scaled)\")\n",
    "plt.xlabel(\"Likelihood versus Probability\")\n",
    "plt.show()"
   ]
  },
  {
   "cell_type": "code",
   "execution_count": 6,
   "id": "73db937e-745f-4979-9d18-b9e18c8b16ed",
   "metadata": {},
   "outputs": [
    {
     "data": {
      "text/plain": [
       "0.5499999999999999"
      ]
     },
     "execution_count": 6,
     "metadata": {},
     "output_type": "execute_result"
    }
   ],
   "source": [
    "probs[np.argmax(l)]"
   ]
  },
  {
   "cell_type": "markdown",
   "id": "f2f91582-7d6b-46d4-9e6e-e1c42fb28e6c",
   "metadata": {},
   "source": [
    "<br>\n",
    "\n",
    "Often with MLE when multiplying probabilities, as here, you will take the logarithm of the likelihood and maximize that. This doesn't change the maximizing value\n",
    "but it does stop you from having to multiply many small numbers, which is going to be problematic with finite precision. (Look at the scale of the numbers on the\n",
    "vertical axis in the figure.) Since the first part of this expression is independent of $p$ we maximize\n",
    "\n",
    "<br>\n",
    "<br>\n",
    "\n",
    "$$\n",
    "{\\Large h \\log{p} + (n - h) \\log{(1-p)}}\n",
    "$$\n",
    "\n",
    "<br>\n",
    "<br>\n",
    "\n",
    "with respect to $p$."
   ]
  },
  {
   "cell_type": "code",
   "execution_count": 7,
   "id": "63196153-7b16-4ff4-ad76-26b290faa0e9",
   "metadata": {},
   "outputs": [],
   "source": [
    "def loglikelihood(n, h, p):\n",
    "    return h * np.log(p) + (n - h) * np.log(1-p)"
   ]
  },
  {
   "cell_type": "code",
   "execution_count": 8,
   "id": "6089af9b-dc5c-422a-b60f-ee3edfa52603",
   "metadata": {},
   "outputs": [],
   "source": [
    "probs = np.linspace(start=0.01, stop=0.99, num=10_000)\n",
    "ll = [loglikelihood(100, 55, p) for p in probs]"
   ]
  },
  {
   "cell_type": "code",
   "execution_count": 9,
   "id": "f1206293-737c-442c-a522-2355023b5f51",
   "metadata": {},
   "outputs": [
    {
     "data": {
      "image/png": "[encoded data removed]",
      "text/plain": [
       "<Figure size 720x576 with 1 Axes>"
      ]
     },
     "metadata": {
      "needs_background": "light"
     },
     "output_type": "display_data"
    }
   ],
   "source": [
    "plt.plot(probs, ll, color=\"orange\", lw=2.5)\n",
    "plt.title(\"Likelihood (scaled)\")\n",
    "plt.xlabel(\"Likelihood versus Probability\")\n",
    "plt.show()"
   ]
  },
  {
   "cell_type": "code",
   "execution_count": 10,
   "id": "450cd7e9-3647-4969-9eac-b185618808fe",
   "metadata": {},
   "outputs": [
    {
     "data": {
      "text/plain": [
       "0.55003400340034"
      ]
     },
     "execution_count": 10,
     "metadata": {},
     "output_type": "execute_result"
    }
   ],
   "source": [
    "probs[np.argmax(ll)]"
   ]
  },
  {
   "cell_type": "markdown",
   "id": "ccc211e1-c0c5-4e6e-a82c-35096b92ef3d",
   "metadata": {},
   "source": [
    "<br>\n",
    "\n",
    "__The Solution__\n",
    "\n",
    "<br>\n",
    "\n",
    "$$\n",
    "{\\large\n",
    "\\begin{align}\n",
    "\\frac{d}{d \\theta} \\ln{[L(\\theta)]} &= 0   \\\\\n",
    "                                    &      \\\\\n",
    "                                    &= \\frac{h}{p} - \\frac{(n-h)}{(1-p)} = 0 \\\\                 \n",
    "\\end{align}\n",
    "}\n",
    "$$\n",
    "\n",
    "<br>\n",
    "\n",
    "The solution is \n",
    "\n",
    "$$\n",
    "{\\large p = \\frac{h}{n}}\n",
    "$$\n",
    "\n",
    "<br>\n",
    "\n",
    "We see that this is the sample mean $\\bar{x} = \\frac{1}{n} \\sum\\limits_{i=1}^{n} x_{i}$ for the binary random variable $x$.\n",
    "\n",
    "<br>\n",
    "\n",
    "For the case above ($n = 100$ and $h = 55$) we see that $\\hat{p} = \\frac{55}{100} = 0.55$.\n",
    "\n",
    "<br>"
   ]
  },
  {
   "cell_type": "markdown",
   "id": "95a3d7a0-0a6f-40c7-b802-1164829adbb1",
   "metadata": {},
   "source": [
    "### __Example: A Poisson Random Variable__\n",
    "\n",
    "<br>\n",
    "\n",
    "Consider a random sample from a Poisson distribution, $X \\sim POI(\\theta)$. The likelihood function is\n",
    "\n",
    "<br>\n",
    "\n",
    "$$\n",
    "{\\large L(\\theta) = \\prod\\limits_{i=1}^{n} f(x_{i}; \\theta) = \\frac{\\exp({-n\\theta}) \\theta^{\\sum_{i=1}^{n} x_{i}}}{\\prod\\limits_{i=1}^{n} x_{i}!}}\n",
    "$$\n",
    "\n",
    "<br>\n",
    "\n",
    "and the log-likelihood is\n",
    "\n",
    "<br>\n",
    "\n",
    "$$\n",
    "{\\large \\ln{[L(\\theta)]} = -n\\theta + \\sum\\limits_{i=1}^{n} x_{i} \\ln{(\\theta)} - \\ln{\\left(\\prod\\limits_{i=1}^{n} x_{i}!\\right)}}\n",
    "$$\n",
    "\n",
    "<br>\n",
    "\n",
    "The maximum likelihood equation is\n",
    "\n",
    "<br>\n",
    "\n",
    "$$\n",
    "{\\large \\frac{d}{d \\theta} \\ln{[L(\\theta)]} = -n + \\sum\\limits_{i=1}^{n} \\frac{x_{i}}{\\theta} = 0}\n",
    "$$\n",
    "\n",
    "<br>\n",
    "\n",
    "which has the solution $\\hat{\\theta} = \\sum\\limits_{i=1}^{n} \\frac{x_{i}}{n} = \\bar{x}$. It is possible to verify that this is a maximum by use of the \n",
    "second derivative,\n",
    "\n",
    "<br>\n",
    "\n",
    "$$\n",
    "{\\large \\frac{d^{2}}{d \\theta^{2}} \\ln{[L(\\theta)]}= -\\sum\\limits_{i=1}^{n} \\frac{x_{i}}{\\theta^{2}} }\n",
    "$$\n",
    "\n",
    "<br>\n",
    "\n",
    "which is negative when evaluated at $\\bar{x}$, $-n/\\bar{x} < 0$.\n",
    "\n",
    "<br>"
   ]
  },
  {
   "cell_type": "markdown",
   "id": "26e1a033-809b-4a9e-85b3-a34aab557b70",
   "metadata": {},
   "source": [
    "### __Example: A Normal Random Variable__\n",
    "\n",
    "<br>\n",
    "\n",
    "Say we have a hat full of random numbers drawn from a normal distribution but with unknown mean and standard deviation (that's two parameters). The probability\n",
    "of drawing a number $x$ from this hat is\n",
    "\n",
    "<br>\n",
    "\n",
    "$$\n",
    "{\\large p(x) = \\frac{1}{\\sqrt{2 \\pi} \\sigma} \\exp{\\left(- \\frac{(x - \\mu)^{2}}{2\\sigma^{2}}\\right)}}\n",
    "$$\n",
    "\n",
    "<br>\n",
    "\n",
    "where $\\mu$ is the mean and $\\sigma$ the standard deviation which are both to be estimated. The log likelihood is then the logarithm of this, i.e.\n",
    "\n",
    "<br>\n",
    "\n",
    "$$\n",
    "{\\large \\ln{(p(x))} = -\\frac{1}{2} \\ln{(2 \\pi)} - \\ln{(\\sigma)} - \\frac{1}{2\\sigma^{2}} (x - \\mu)^{2}}\n",
    "$$\n",
    "\n",
    "<br>\n",
    "\n"
   ]
  },
  {
   "cell_type": "code",
   "execution_count": null,
   "id": "d47d5c2c-3603-4a93-ba12-abf50158c67d",
   "metadata": {},
   "outputs": [],
   "source": []
  }
 ],
 "metadata": {
  "kernelspec": {
   "display_name": "Python 3",
   "language": "python",
   "name": "python3"
  },
  "language_info": {
   "codemirror_mode": {
    "name": "ipython",
    "version": 3
   },
   "file_extension": ".py",
   "mimetype": "text/x-python",
   "name": "python",
   "nbconvert_exporter": "python",
   "pygments_lexer": "ipython3",
   "version": "3.8.5"
  }
 },
 "nbformat": 4,
 "nbformat_minor": 5
}
