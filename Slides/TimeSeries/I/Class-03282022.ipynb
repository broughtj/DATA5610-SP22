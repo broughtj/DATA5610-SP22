{
 "cells": [
  {
   "cell_type": "code",
   "execution_count": 1,
   "id": "29b6a4c7-7768-448f-b951-b8e14a0e9a2e",
   "metadata": {},
   "outputs": [],
   "source": [
    "import numpy as np\n",
    "import matplotlib.pyplot as plt"
   ]
  },
  {
   "cell_type": "code",
   "execution_count": 2,
   "id": "f78e07cc-e0c2-4dd6-b9e3-eea94403fc71",
   "metadata": {},
   "outputs": [],
   "source": [
    "%matplotlib inline"
   ]
  },
  {
   "cell_type": "markdown",
   "id": "118c7b28-07ac-4591-99fc-e4124b981e27",
   "metadata": {},
   "source": [
    "## Simulating An Invertible Series"
   ]
  },
  {
   "cell_type": "code",
   "execution_count": 3,
   "id": "7cb39898-23e8-43ef-9528-85425e9d989a",
   "metadata": {},
   "outputs": [],
   "source": [
    "z = 0.5"
   ]
  },
  {
   "cell_type": "code",
   "execution_count": 4,
   "id": "19a53cf7-ec1f-46eb-93c0-c61570b988bb",
   "metadata": {},
   "outputs": [],
   "source": [
    "M = 1_000"
   ]
  },
  {
   "cell_type": "code",
   "execution_count": 5,
   "id": "0a86b27f-9aff-4ad5-a47e-32bb3fe5270e",
   "metadata": {},
   "outputs": [],
   "source": [
    "s = np.array([z**i for i in range(M)])"
   ]
  },
  {
   "cell_type": "code",
   "execution_count": 6,
   "id": "b66453a2-7c4a-42d3-bd0c-a0b9a6c67c8a",
   "metadata": {},
   "outputs": [
    {
     "data": {
      "text/plain": [
       "array([1.        , 0.5       , 0.25      , 0.125     , 0.0625    ,\n",
       "       0.03125   , 0.015625  , 0.0078125 , 0.00390625, 0.00195312])"
      ]
     },
     "execution_count": 6,
     "metadata": {},
     "output_type": "execute_result"
    }
   ],
   "source": [
    "s[:10]"
   ]
  },
  {
   "cell_type": "code",
   "execution_count": 7,
   "id": "61bc684d-9ea1-4a1e-9016-634ddc9396fb",
   "metadata": {},
   "outputs": [
    {
     "data": {
      "text/plain": [
       "2.0"
      ]
     },
     "execution_count": 7,
     "metadata": {},
     "output_type": "execute_result"
    }
   ],
   "source": [
    "1. / (1. - z)"
   ]
  },
  {
   "cell_type": "code",
   "execution_count": 8,
   "id": "45ba7373-76e4-4e02-9b9d-2908d31db19a",
   "metadata": {},
   "outputs": [
    {
     "data": {
      "text/plain": [
       "2.0"
      ]
     },
     "execution_count": 8,
     "metadata": {},
     "output_type": "execute_result"
    }
   ],
   "source": [
    "s.sum()"
   ]
  },
  {
   "cell_type": "code",
   "execution_count": null,
   "id": "87108d47-cebe-4336-b494-4d9523dea78c",
   "metadata": {},
   "outputs": [],
   "source": []
  },
  {
   "cell_type": "markdown",
   "id": "5812e94d-4a11-40a9-b7b8-cf53f4c8094a",
   "metadata": {},
   "source": [
    "## Simulating A Stationary AR(1)"
   ]
  },
  {
   "cell_type": "code",
   "execution_count": 59,
   "id": "9dcf3da1-3d87-49b9-ac27-5b5d98d3b68c",
   "metadata": {},
   "outputs": [],
   "source": [
    "ϕ = 0.5"
   ]
  },
  {
   "cell_type": "code",
   "execution_count": 73,
   "id": "5ab44789-d35b-4ba6-a998-c7c20433127a",
   "metadata": {},
   "outputs": [],
   "source": [
    "T = 100"
   ]
  },
  {
   "cell_type": "code",
   "execution_count": 74,
   "id": "563b0441-6117-402c-9f34-83b662dd33bc",
   "metadata": {},
   "outputs": [],
   "source": [
    "y = np.zeros(T)\n",
    "ϵ = np.random.normal(size=T)"
   ]
  },
  {
   "cell_type": "code",
   "execution_count": 75,
   "id": "5b9764b2-9ecc-45d6-9856-dd7f2a72b575",
   "metadata": {},
   "outputs": [],
   "source": [
    "y[0] = 0.0"
   ]
  },
  {
   "cell_type": "code",
   "execution_count": 76,
   "id": "cbac83a1-1a9f-4081-a27b-dfb67db1e86b",
   "metadata": {},
   "outputs": [],
   "source": [
    "for t in range(1, T):\n",
    "    y[t] = ϕ * y[t-1] + ϵ[t]"
   ]
  },
  {
   "cell_type": "code",
   "execution_count": 77,
   "id": "aa0f70f8-7dbd-4a64-a29c-05f73750bc69",
   "metadata": {},
   "outputs": [
    {
     "data": {
      "text/plain": [
       "[<matplotlib.lines.Line2D at 0x7fe35838b190>]"
      ]
     },
     "execution_count": 77,
     "metadata": {},
     "output_type": "execute_result"
    },
    {
     "data": {
      "image/png": "[encoded data removed]",
      "text/plain": [
       "<Figure size 432x288 with 1 Axes>"
      ]
     },
     "metadata": {
      "needs_background": "light"
     },
     "output_type": "display_data"
    }
   ],
   "source": [
    "plt.plot(y)"
   ]
  },
  {
   "cell_type": "code",
   "execution_count": null,
   "id": "c44e6a37-7f88-439d-b7ae-cff15f2f21eb",
   "metadata": {},
   "outputs": [],
   "source": []
  }
 ],
 "metadata": {
  "kernelspec": {
   "display_name": "Python 3 (ipykernel)",
   "language": "python",
   "name": "python3"
  },
  "language_info": {
   "codemirror_mode": {
    "name": "ipython",
    "version": 3
   },
   "file_extension": ".py",
   "mimetype": "text/x-python",
   "name": "python",
   "nbconvert_exporter": "python",
   "pygments_lexer": "ipython3",
   "version": "3.8.5"
  }
 },
 "nbformat": 4,
 "nbformat_minor": 5
}
